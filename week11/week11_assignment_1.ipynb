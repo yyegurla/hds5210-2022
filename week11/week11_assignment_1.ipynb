{
 "cells": [
  {
   "cell_type": "markdown",
   "metadata": {},
   "source": [
    "# Week 10 Assignment"
   ]
  },
  {
   "cell_type": "markdown",
   "metadata": {},
   "source": [
    "This week's content was all about working with Pandas dataframes in a few new ways: managing duplicate rows, filtering, replacing information, creating derived fields, and working with datetime data.\n",
    "\n",
    "Test your knowledge of the content from the lectures through the multiple choice questions below.\n",
    "\n",
    "---\n",
    "---"
   ]
  },
  {
   "cell_type": "markdown",
   "metadata": {},
   "source": [
    "### 42.1 Which of these ways will show you a unique list of values from a column in a dataframe?  \n",
    "\n",
    "Some options might show the unique list and additional information like how many times each appears.  Include those in your answer, too.\n",
    "\n",
    "> A) `df['my field'].unique()`\n",
    ">\n",
    "> B) `df['my field'].value_counts()`\n",
    ">\n",
    "> C) `df['my_field'].keys()`\n",
    ">\n",
    "> D) None of these"
   ]
  },
  {
   "cell_type": "code",
   "execution_count": 1,
   "metadata": {},
   "outputs": [],
   "source": [
    "answers = {}\n",
    "answers['42.1'] = [\"A\",\"B\",\"C\"]"
   ]
  },
  {
   "cell_type": "markdown",
   "metadata": {},
   "source": [
    "### 42.2 Value Counts of Value Counts?\n",
    "\n",
    "What is the best description for the following line of code do?\n",
    "\n",
    "```python\n",
    "df['my field'].value_counts().value_counts()\n",
    "```\n",
    "\n",
    "> A) This will return a list of all values in **my field** and how many times each value appears in the dataframe\n",
    ">\n",
    "> B) This will return an error\n",
    ">\n",
    "> C) If this list returns one result and it has a `1` in the first position, then we know **my field** is a unique list\n",
    ">\n",
    "> D) This will return a list of all the values in **my field** that appear only once"
   ]
  },
  {
   "cell_type": "code",
   "execution_count": 2,
   "metadata": {},
   "outputs": [],
   "source": [
    "answers['42.2'] = \"C\""
   ]
  },
  {
   "cell_type": "markdown",
   "metadata": {},
   "source": [
    "### 42.3 The results of a pandas dataframe groupby() can only calculate min, max, and avg\n",
    "\n",
    "> A) True\n",
    ">\n",
    "> B) False\n"
   ]
  },
  {
   "cell_type": "code",
   "execution_count": 3,
   "metadata": {},
   "outputs": [],
   "source": [
    "answers['42.3'] = \"B\""
   ]
  },
  {
   "cell_type": "markdown",
   "metadata": {},
   "source": [
    "### 43.1 Which is the proper way to combine two filters so that the only rows returned are rows where both conditions are true?\n",
    "\n",
    "> A) `(df['diabetes_risk'] > 4) and (df['hf_risk'] > 4)`\n",
    ">\n",
    "> B) `(df['diabetes_risk'] > 4) & (df['hf_risk'] > 4)`\n",
    ">\n",
    "> C) `(df['diabetes_risk'] and df['hf_risk'] > 4)`\n",
    "> \n",
    "> D) `(df['diabetes_risk'] & df['hf_risk']) > 4`"
   ]
  },
  {
   "cell_type": "code",
   "execution_count": 4,
   "metadata": {},
   "outputs": [],
   "source": [
    "answers['43.1'] = \"B\""
   ]
  },
  {
   "cell_type": "markdown",
   "metadata": {},
   "source": [
    "### 43.2 Pandas can only filter on one column at a time\n",
    "\n",
    "> A) True\n",
    "> \n",
    "> B) False\n"
   ]
  },
  {
   "cell_type": "code",
   "execution_count": 5,
   "metadata": {},
   "outputs": [],
   "source": [
    "answers['43.2'] = \"B\""
   ]
  },
  {
   "cell_type": "markdown",
   "metadata": {},
   "source": [
    "### 44.1 What is the most correct definition of interpolation?\n",
    "\n",
    "> A) Interpolation is a statistical data investigation conducted by Interpol\n",
    ">\n",
    "> B) Interpolation is a series of techniques for filling in missing data in the midst of your data set\n",
    ">\n",
    "> C) Interpolation is the application of statistical methods to predict data beyond the boundaries of your data set\n",
    ">\n",
    "> D) Interpolation is never a good idea"
   ]
  },
  {
   "cell_type": "code",
   "execution_count": 6,
   "metadata": {},
   "outputs": [],
   "source": [
    "answers['44.1'] = \"B\""
   ]
  },
  {
   "cell_type": "markdown",
   "metadata": {},
   "source": [
    "### 44.2 How are typical string functions (like lower()) applied to a dataframe column?\n",
    "\n",
    "> A) `df['my field'].lower()`\n",
    ">\n",
    "> B) `lower(df['my field')`\n",
    ">\n",
    "> C) `str.lower(df['my field'])`\n",
    ">\n",
    "> D) `df['my field'].str.lower()`"
   ]
  },
  {
   "cell_type": "code",
   "execution_count": 7,
   "metadata": {},
   "outputs": [],
   "source": [
    "answers['44.2'] = \"D\""
   ]
  },
  {
   "cell_type": "markdown",
   "metadata": {},
   "source": [
    "### 45.1 Which method is used to apply an arbitrary function to the columns of a dataframe?\n",
    "\n",
    "> A) `df[['col1','col2']].apply(fcn, axis=1)`\n",
    ">\n",
    "> B) `df[['col1','col2']].map(fcn)`\n",
    ">\n",
    "> C) `df.fnc(['col1','col2'])`\n",
    ">\n",
    "> D) This is not possible"
   ]
  },
  {
   "cell_type": "code",
   "execution_count": 8,
   "metadata": {},
   "outputs": [],
   "source": [
    "answers['45.1'] = \"A\""
   ]
  },
  {
   "cell_type": "markdown",
   "metadata": {},
   "source": [
    "### 46.1 If you store date information as a string, what is the best format to use?\n",
    "\n",
    "> A) Apr 2, 2021\n",
    ">\n",
    "> B) 2021-04-02\n",
    ">\n",
    "> C) 4/2/21\n",
    ">\n",
    "> D) 2/4/21"
   ]
  },
  {
   "cell_type": "code",
   "execution_count": 9,
   "metadata": {},
   "outputs": [],
   "source": [
    "answers['46.1'] = \"B\""
   ]
  },
  {
   "cell_type": "code",
   "execution_count": null,
   "metadata": {},
   "outputs": [],
   "source": []
  },
  {
   "cell_type": "markdown",
   "metadata": {},
   "source": [
    "---\n",
    "\n",
    "Checking Your Work\n",
    "---\n",
    "\n",
    "After completing your work above and running each cell, you can check your answers by running the code below. \n",
    "\n",
    "The easiest way to do this is to use the `Kernel` -> `Restart Kernel and Run All Cells` menu option. This option restarts Python and runs every cell from top to bottom until it encounters an exception of some kind.  It will stop after running the cell below and outputing a summary of how many answers you have correct or incorrect.\n"
   ]
  },
  {
   "cell_type": "code",
   "execution_count": 10,
   "metadata": {
    "jupyter": {
     "source_hidden": true
    }
   },
   "outputs": [
    {
     "name": "stdout",
     "output_type": "stream",
     "text": [
      "   Q#               Yours  Correct?\n",
      " 42.1     ['A', 'B', 'C']        OK\n",
      " 42.2                   C        OK\n",
      " 42.3                   B        OK\n",
      " 43.1                   B        OK\n",
      " 43.2                   B        OK\n",
      " 44.1                   B        OK\n",
      " 44.2                   D        OK\n",
      " 45.1                   A        OK\n",
      " 46.1                   B        OK\n"
     ]
    }
   ],
   "source": [
    "import getpass\n",
    "import boto3\n",
    "import json\n",
    "\n",
    "test = {\n",
    "    \"user\": getpass.getuser(),\n",
    "    \"week\": \"week11\",\n",
    "    \"answers\": answers\n",
    "}\n",
    "\n",
    "client = boto3.client('lambda')\n",
    "\n",
    "response = client.invoke(\n",
    "    FunctionName=\"hds5210\",\n",
    "    InvocationType=\"RequestResponse\",\n",
    "    Payload=json.dumps(test))\n",
    "\n",
    "result = json.loads(response['Payload'].read().decode('utf-8'))\n",
    "# print(result)\n",
    "\n",
    "try:\n",
    "    print('{0:>5}{1:>20}{2:>10}'.format('Q#','Yours','Correct?'))\n",
    "    for row in result.get('results'):\n",
    "        print('{0:>5}{1:>20}{2:>10}'.format(str(row[0]),str(row[1]),str(row[2])))\n",
    "except:\n",
    "    print(result)"
   ]
  },
  {
   "cell_type": "markdown",
   "metadata": {},
   "source": [
    "---\n",
    "\n",
    "## Check your work above\n",
    "\n",
    "If you didn't get them all correct, take a few minutes to think through those that aren't correct.\n",
    "\n",
    "\n",
    "## Submit your work via GitHub has normal\n"
   ]
  },
  {
   "cell_type": "code",
   "execution_count": null,
   "metadata": {},
   "outputs": [],
   "source": []
  }
 ],
 "metadata": {
  "kernelspec": {
   "display_name": "Python 3",
   "language": "python",
   "name": "python3"
  },
  "language_info": {
   "codemirror_mode": {
    "name": "ipython",
    "version": 3
   },
   "file_extension": ".py",
   "mimetype": "text/x-python",
   "name": "python",
   "nbconvert_exporter": "python",
   "pygments_lexer": "ipython3",
   "version": "3.6.7"
  }
 },
 "nbformat": 4,
 "nbformat_minor": 4
}
