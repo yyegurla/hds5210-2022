{
 "cells": [
  {
   "cell_type": "markdown",
   "metadata": {},
   "source": [
    "# Week 12 - Earn-Back Points Assignment #2\n",
    "\n",
    "These exercises are entirely optional, but they provide good practice. And you can use them to earn extra points toward your semester grade.  Completing all the questions in this assignment correctly will earn you back 8 points.\n",
    "\n",
    "There will be 2 more assignments like this between now and the end of the semester, giving you the opportunity to earn back a total of 32 points.\n",
    "\n",
    "**If anything about the above rules is unclear, please message me on Canvas or via email**"
   ]
  },
  {
   "cell_type": "markdown",
   "metadata": {},
   "source": [
    "---"
   ]
  },
  {
   "cell_type": "markdown",
   "metadata": {},
   "source": [
    "## Introduction\n",
    "\n",
    "The Centers for Medicare and Medicaid Services (CMS) provides lots of information online including a general directory of hospitals in the US. For this set of exercises, we'll be working with a file referred to as [Hospital General Information](https://data.cms.gov/provider-data/dataset/xubh-q36u). **Download this file as a CSV and upload it to your week 13 directory on Jupyter.**\n",
    "\n",
    "Each of these exercises will involve finding an answer to a specific question and then submitting that.  Your answers must be computed using Python code within this notebook to earn full credit.\n",
    "\n",
    "You do not need to write functions to compute the answers and do not need to provide any special documentation. You can simply calculate the answers inline in the notebook and then submit your answers using the `answers` dictionary, similar to how most of our part 1 assignments work.\n"
   ]
  },
  {
   "cell_type": "code",
   "execution_count": 1,
   "metadata": {},
   "outputs": [],
   "source": [
    "import pandas as pd\n",
    "answers = {}\n",
    "df = pd.read_csv('Hospital_General_Information.csv')"
   ]
  },
  {
   "cell_type": "markdown",
   "metadata": {},
   "source": [
    "---"
   ]
  },
  {
   "cell_type": "markdown",
   "metadata": {},
   "source": [
    "## Tips\n",
    "\n",
    "Before you get started, I want to show you a pattern that you might find useful. In the example below, I'm going to summarize a simple data frame, determine which name occurs most often, how often that is, and what the percent of total that represents.  This can be a useful pattern in general and you should be able to apply it below."
   ]
  },
  {
   "cell_type": "code",
   "execution_count": 2,
   "metadata": {},
   "outputs": [
    {
     "data": {
      "text/html": [
       "<div>\n",
       "<style scoped>\n",
       "    .dataframe tbody tr th:only-of-type {\n",
       "        vertical-align: middle;\n",
       "    }\n",
       "\n",
       "    .dataframe tbody tr th {\n",
       "        vertical-align: top;\n",
       "    }\n",
       "\n",
       "    .dataframe thead th {\n",
       "        text-align: right;\n",
       "    }\n",
       "</style>\n",
       "<table border=\"1\" class=\"dataframe\">\n",
       "  <thead>\n",
       "    <tr style=\"text-align: right;\">\n",
       "      <th></th>\n",
       "      <th>Last Name</th>\n",
       "      <th>First Name</th>\n",
       "      <th>Age</th>\n",
       "    </tr>\n",
       "  </thead>\n",
       "  <tbody>\n",
       "    <tr>\n",
       "      <th>0</th>\n",
       "      <td>Boal</td>\n",
       "      <td>Paul</td>\n",
       "      <td>45</td>\n",
       "    </tr>\n",
       "    <tr>\n",
       "      <th>1</th>\n",
       "      <td>Boal</td>\n",
       "      <td>Anny</td>\n",
       "      <td>47</td>\n",
       "    </tr>\n",
       "    <tr>\n",
       "      <th>2</th>\n",
       "      <td>Boal</td>\n",
       "      <td>James</td>\n",
       "      <td>75</td>\n",
       "    </tr>\n",
       "    <tr>\n",
       "      <th>3</th>\n",
       "      <td>Lester</td>\n",
       "      <td>Sarahlynn</td>\n",
       "      <td>48</td>\n",
       "    </tr>\n",
       "    <tr>\n",
       "      <th>4</th>\n",
       "      <td>Lester</td>\n",
       "      <td>Carolynn</td>\n",
       "      <td>70</td>\n",
       "    </tr>\n",
       "  </tbody>\n",
       "</table>\n",
       "</div>"
      ],
      "text/plain": [
       "  Last Name First Name  Age\n",
       "0      Boal       Paul   45\n",
       "1      Boal       Anny   47\n",
       "2      Boal      James   75\n",
       "3    Lester  Sarahlynn   48\n",
       "4    Lester   Carolynn   70"
      ]
     },
     "execution_count": 2,
     "metadata": {},
     "output_type": "execute_result"
    }
   ],
   "source": [
    "df = pd.DataFrame([\n",
    "    ['Boal','Paul',45],\n",
    "    ['Boal','Anny',47],\n",
    "    ['Boal','James',75],\n",
    "    ['Lester','Sarahlynn',48],\n",
    "    ['Lester','Carolynn',70]\n",
    "], columns=['Last Name','First Name','Age'])\n",
    "\n",
    "df"
   ]
  },
  {
   "cell_type": "code",
   "execution_count": 3,
   "metadata": {},
   "outputs": [
    {
     "data": {
      "text/plain": [
       "Last Name\n",
       "Boal      3\n",
       "Lester    2\n",
       "Name: Last Name, dtype: int64"
      ]
     },
     "execution_count": 3,
     "metadata": {},
     "output_type": "execute_result"
    }
   ],
   "source": [
    "# Which family (based on Last Name) has the most people?\n",
    "\n",
    "# 1. Group by Last Name\n",
    "# 2. Count how many people are in each family\n",
    "# 3. Sort by value\n",
    "\n",
    "\n",
    "by_last_name = df.groupby('Last Name')\n",
    "family_count = by_last_name['Last Name'].count()\n",
    "family_sorted = family_count.sort_values(ascending=False)\n",
    "\n",
    "family_sorted"
   ]
  },
  {
   "cell_type": "code",
   "execution_count": 4,
   "metadata": {},
   "outputs": [
    {
     "data": {
      "text/plain": [
       "'Boal'"
      ]
     },
     "execution_count": 4,
     "metadata": {},
     "output_type": "execute_result"
    }
   ],
   "source": [
    "# 4. Extract the \"index\" (aka Last Name)\n",
    "# 5. Choose the first value\n",
    "\n",
    "top_family = list(family_sorted.index)[0]\n",
    "top_family"
   ]
  },
  {
   "cell_type": "code",
   "execution_count": 5,
   "metadata": {},
   "outputs": [
    {
     "data": {
      "text/plain": [
       "3"
      ]
     },
     "execution_count": 5,
     "metadata": {},
     "output_type": "execute_result"
    }
   ],
   "source": [
    "# How many members does that family have?\n",
    "\n",
    "# 6. Choose that family from the counts we already computed.\n",
    "\n",
    "family_count[top_family]"
   ]
  },
  {
   "cell_type": "code",
   "execution_count": 6,
   "metadata": {},
   "outputs": [
    {
     "data": {
      "text/plain": [
       "0.6"
      ]
     },
     "execution_count": 6,
     "metadata": {},
     "output_type": "execute_result"
    }
   ],
   "source": [
    "# What percent of total is that?\n",
    "\n",
    "# 7. Compute a total\n",
    "# 8. Compute the percent\n",
    "\n",
    "total = family_count.sum()\n",
    "pct = family_count[top_family] / total\n",
    "pct"
   ]
  },
  {
   "cell_type": "markdown",
   "metadata": {},
   "source": [
    "---\n",
    "\n",
    "### E12.01\n",
    "\n",
    "How many columns are there in this data frame?"
   ]
  },
  {
   "cell_type": "code",
   "execution_count": 7,
   "metadata": {},
   "outputs": [
    {
     "name": "stdout",
     "output_type": "stream",
     "text": [
      "38\n"
     ]
    }
   ],
   "source": [
    "import pandas as pd\n",
    "answers = {}\n",
    "df = pd.read_csv('Hospital_General_Information.csv')\n",
    "num_columns= len(df.columns)\n",
    "\n",
    "print(num_columns)\n",
    "answers['E12.01'] = \"38\""
   ]
  },
  {
   "cell_type": "markdown",
   "metadata": {},
   "source": [
    "### E12.02\n",
    "\n",
    "How many hospitals are there in this file? (Each row is one hospital.)"
   ]
  },
  {
   "cell_type": "code",
   "execution_count": 8,
   "metadata": {},
   "outputs": [
    {
     "name": "stdout",
     "output_type": "stream",
     "text": [
      "5307\n"
     ]
    }
   ],
   "source": [
    "num_hospitals = len(df.index)\n",
    "print(num_hospitals)\n",
    "answers['E12.02'] = \"5307\""
   ]
  },
  {
   "cell_type": "markdown",
   "metadata": {},
   "source": [
    "### E12.03\n",
    "\n",
    "How many hospitals from Missouri (state abbreviation MO) are in this file?"
   ]
  },
  {
   "cell_type": "code",
   "execution_count": 9,
   "metadata": {},
   "outputs": [
    {
     "name": "stdout",
     "output_type": "stream",
     "text": [
      "119\n"
     ]
    }
   ],
   "source": [
    "MO_hospitals = len(df[df['State'] == 'MO'])\n",
    "print(MO_hospitals)\n",
    "answers['E12.03'] = \"119\""
   ]
  },
  {
   "cell_type": "markdown",
   "metadata": {},
   "source": [
    "### E12.04\n",
    "\n",
    "How many different ZIP Codes from Misouri are represented in this file?"
   ]
  },
  {
   "cell_type": "code",
   "execution_count": 10,
   "metadata": {},
   "outputs": [
    {
     "name": "stdout",
     "output_type": "stream",
     "text": [
      "109\n"
     ]
    }
   ],
   "source": [
    "zip_mo = len(df[df['State'] == 'MO'].groupby('ZIP Code'))\n",
    "print(zip_mo)\n",
    "answers['E12.04'] = \"109\""
   ]
  },
  {
   "cell_type": "code",
   "execution_count": null,
   "metadata": {},
   "outputs": [],
   "source": []
  },
  {
   "cell_type": "code",
   "execution_count": null,
   "metadata": {},
   "outputs": [],
   "source": []
  },
  {
   "cell_type": "markdown",
   "metadata": {},
   "source": [
    "### E12.05\n",
    "\n",
    "Which of those ZIP Codes has the most hospitals?  If it's a tie, submit your answer as a list of ZIP Codes.  Make sure your answer is submitted as a string or list of strings. Do not submit the ZIP Code values as numbers.\n"
   ]
  },
  {
   "cell_type": "code",
   "execution_count": 11,
   "metadata": {},
   "outputs": [],
   "source": [
    "mo_state_facilities = df[df['State'] == 'MO']\n",
    "mo_state_facilities_sorted = (mo_state_facilities.groupby('ZIP Code'))['ZIP Code'].count().sort_values(ascending=False)"
   ]
  },
  {
   "cell_type": "code",
   "execution_count": 12,
   "metadata": {},
   "outputs": [],
   "source": [
    "mo_state_facilities_sorted.index = mo_state_facilities_sorted.index.astype(\"str\")"
   ]
  },
  {
   "cell_type": "code",
   "execution_count": 13,
   "metadata": {},
   "outputs": [],
   "source": [
    "import numpy as np\n",
    "A = np.array(mo_state_facilities_sorted)\n",
    "maximum_indices = np.where(A==max(mo_state_facilities_sorted))"
   ]
  },
  {
   "cell_type": "code",
   "execution_count": 14,
   "metadata": {},
   "outputs": [
    {
     "name": "stdout",
     "output_type": "stream",
     "text": [
      "['64108', '63110']\n"
     ]
    }
   ],
   "source": [
    "answer = (list(map(mo_state_facilities_sorted.__getitem__, maximum_indices)))[0].index.to_list()\n",
    "print(answer)"
   ]
  },
  {
   "cell_type": "code",
   "execution_count": 15,
   "metadata": {},
   "outputs": [],
   "source": [
    "answers['E12.05'] = \"['64108', '63110']\""
   ]
  },
  {
   "cell_type": "markdown",
   "metadata": {},
   "source": [
    "### E12.06\n",
    "\n",
    "Which state has the most hospitals?"
   ]
  },
  {
   "cell_type": "code",
   "execution_count": 16,
   "metadata": {},
   "outputs": [
    {
     "name": "stdout",
     "output_type": "stream",
     "text": [
      "TX\n"
     ]
    }
   ],
   "source": [
    "sort_by_hosp_count = (df.groupby('State'))['State'].count().sort_values(ascending=False)\n",
    "mosthosp = (sort_by_hosp_count.index)[0]\n",
    "print(mosthosp)\n",
    "answers['E12.06'] = \"TX\""
   ]
  },
  {
   "cell_type": "markdown",
   "metadata": {},
   "source": [
    "### E12.07\n",
    "\n",
    "How many different Hospital Types are there in this file?"
   ]
  },
  {
   "cell_type": "code",
   "execution_count": 17,
   "metadata": {},
   "outputs": [
    {
     "name": "stdout",
     "output_type": "stream",
     "text": [
      "5\n"
     ]
    }
   ],
   "source": [
    "hosptypes = len(df.groupby('Hospital Type'))\n",
    "print(hosptypes)\n",
    "answers['E12.07'] = \"5\""
   ]
  },
  {
   "cell_type": "markdown",
   "metadata": {},
   "source": [
    "### E12.08\n",
    "\n",
    "Which Hospital Type has the greatest number of files?"
   ]
  },
  {
   "cell_type": "code",
   "execution_count": 18,
   "metadata": {},
   "outputs": [
    {
     "name": "stdout",
     "output_type": "stream",
     "text": [
      "Acute Care Hospitals\n"
     ]
    }
   ],
   "source": [
    "sort_by_hosp_count = df.groupby('Hospital Type')['Hospital Type'].count().sort_values(ascending=False)\n",
    "great_files = (sort_by_hosp_count.index)[0]\n",
    "print(great_files)\n",
    "answers['E12.08'] = \"Acute Care Hospitals\""
   ]
  },
  {
   "cell_type": "markdown",
   "metadata": {},
   "source": [
    "### E12.09\n",
    "\n",
    "What percent of the total hospital count (represented as ##.##%, rounded to two decimal places) is represented in that Hospital Type?"
   ]
  },
  {
   "cell_type": "code",
   "execution_count": 19,
   "metadata": {},
   "outputs": [
    {
     "name": "stdout",
     "output_type": "stream",
     "text": [
      "60.73\n"
     ]
    }
   ],
   "source": [
    "answers['E12.09'] = str(\"{:0.2f}\".format(sort_by_hosp_count[0]/sum(sort_by_hosp_count)*100))\n",
    "print(answers['E12.09'])\n",
    "answers['E12.09'] = \"60.73\""
   ]
  },
  {
   "cell_type": "markdown",
   "metadata": {},
   "source": [
    "### E12.10\n",
    "\n",
    "What percent of the total hospital count (represented as ##.##%, rounded to two decimal places) provide Emergency Services?"
   ]
  },
  {
   "cell_type": "code",
   "execution_count": 20,
   "metadata": {},
   "outputs": [
    {
     "name": "stdout",
     "output_type": "stream",
     "text": [
      "83.89\n"
     ]
    }
   ],
   "source": [
    "import collections\n",
    "emrgency_yes_count = collections.Counter(df['Emergency Services'])['Yes']\n",
    "answers['E12.10'] = str(\"{:0.2f}\".format(emrgency_yes_count/len(df['Facility ID'].unique())*100))\n",
    "print(answers['E12.10'])\n",
    "answers['E12.10'] = \"83.89\""
   ]
  },
  {
   "cell_type": "markdown",
   "metadata": {},
   "source": [
    "---\n",
    "\n",
    "Checking Your Work\n",
    "---\n",
    "\n",
    "After completing your work above and running each cell, you can check your answers by running the code below. \n",
    "\n",
    "The easiest way to do this is to use the `Kernel` -> `Restart Kernel and Run All Cells` menu option. This option restarts Python and runs every cell from top to bottom until it encounters an exception of some kind.  It will stop after running the cell below and outputing a summary of how many answers you have correct or incorrect.\n"
   ]
  },
  {
   "cell_type": "code",
   "execution_count": 21,
   "metadata": {
    "jupyter": {
     "source_hidden": true
    }
   },
   "outputs": [
    {
     "name": "stdout",
     "output_type": "stream",
     "text": [
      "     Q#                         Yours  Correct?\n",
      " E12.01                            38        OK\n",
      " E12.02                          5307        OK\n",
      " E12.03                           119        OK\n",
      " E12.04                           109        OK\n",
      " E12.05            ['64108', '63110']        NO\n",
      " E12.06                            TX        OK\n",
      " E12.07                             5        OK\n",
      " E12.08          Acute Care Hospitals        OK\n",
      " E12.09                         60.73        OK\n",
      " E12.10                         83.89        OK\n"
     ]
    }
   ],
   "source": [
    "import getpass\n",
    "import boto3\n",
    "import json\n",
    "\n",
    "test = {\n",
    "    \"user\": getpass.getuser(),\n",
    "    \"week\": \"week12EB\",\n",
    "    \"answers\": answers\n",
    "}\n",
    "\n",
    "client = boto3.client('lambda')\n",
    "\n",
    "response = client.invoke(\n",
    "    FunctionName=\"hds5210\",\n",
    "    InvocationType=\"RequestResponse\",\n",
    "    Payload=json.dumps(test))\n",
    "\n",
    "result = json.loads(response['Payload'].read().decode('utf-8'))\n",
    "# print(result)\n",
    "\n",
    "try:\n",
    "    print('{0:>7}{1:>30}{2:>10}'.format('Q#','Yours','Correct?'))\n",
    "    for row in result.get('results'):\n",
    "        print('{0:>7}{1:>30}{2:>10}'.format(str(row[0]),str(row[1]),str(row[2])))\n",
    "except:\n",
    "    print(result)"
   ]
  },
  {
   "cell_type": "markdown",
   "metadata": {},
   "source": [
    "## Submit your work to github in your week 13 folder by 12/5 11:59 PM"
   ]
  }
 ],
 "metadata": {
  "kernelspec": {
   "display_name": "Python 3",
   "language": "python",
   "name": "python3"
  },
  "language_info": {
   "codemirror_mode": {
    "name": "ipython",
    "version": 3
   },
   "file_extension": ".py",
   "mimetype": "text/x-python",
   "name": "python",
   "nbconvert_exporter": "python",
   "pygments_lexer": "ipython3",
   "version": "3.6.7"
  }
 },
 "nbformat": 4,
 "nbformat_minor": 4
}
