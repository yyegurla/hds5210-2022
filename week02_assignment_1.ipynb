{
 "cells": [
  {
   "cell_type": "markdown",
   "metadata": {
    "nbgrader": {
     "grade": false,
     "grade_id": "intro",
     "locked": true,
     "schema_version": 1,
     "solution": false
    }
   },
   "source": [
    "# Week 2 Review Exercises\n",
    "\n",
    "_McKinney 2.3_\n",
    "\n",
    "_Modules 4-6_\n",
    "\n",
    "This assignment is to be completed after watching the video lectures for modules 4 - 6.  Please review the content in those modules through Blackboard and then complete the review below as instructed.  When complete, there are instructions at the bottom of the exercise that will allow you to check your work and then submit it via github.com\n",
    "\n",
    "For each of the multiple choice quesitons below, do not change the variable name.  Only change the answer part to match whichever letter or letters are the correct answer.  \n",
    "\n",
    "For example, in the problem below, the correct answer is `D`, so you would provide the answer as show.\n",
    "\n",
    "---\n",
    "```\n",
    "0.1 Instructor's Name\n",
    "The correct spelling of this instructor's last name is:\n",
    " A) Bowl\n",
    " B) Bole\n",
    " C) Boll\n",
    " D) Boal\n",
    "```\n",
    "---\n",
    "```\n",
    "answer[\"0.1\"]=\"D\"\n",
    "```\n",
    "---\n",
    "\n",
    "Do not change anything else or add any other code to this notebook. If you need to do scratch work to determine an answer, create a new notebook and do your work there."
   ]
  },
  {
   "cell_type": "markdown",
   "metadata": {},
   "source": [
    "---\n",
    "\n",
    "---"
   ]
  },
  {
   "cell_type": "markdown",
   "metadata": {},
   "source": [
    "## Part 1: Multiple Choice\n",
    "\n",
    "For the multiple choice questions below, type in the letter of the best answer where indicated.  Contrary to the note above, this section won't tell you if you have the correct answers or not immediately."
   ]
  },
  {
   "cell_type": "markdown",
   "metadata": {},
   "source": [
    "### 1.1 Code Blocks\n",
    "\n",
    "Why is some code in Python indented from other lines of code?\n",
    "> A) To block code apart to designate it should only be executed at certain times\n",
    ">\n",
    "> B) Indented lines are treated like comments and not executed\n",
    ">\n",
    "> C) To specify that line of code should never be run\n",
    ">\n",
    "> D) The programmer can choose when to indent code to make it easier to read\n"
   ]
  },
  {
   "cell_type": "code",
   "execution_count": 1,
   "metadata": {},
   "outputs": [],
   "source": [
    "answers = {}\n",
    "answers[\"1.1\"] = \"A\""
   ]
  },
  {
   "cell_type": "markdown",
   "metadata": {},
   "source": [
    "### 1.2 Python Versions\n",
    "\n",
    "Which statements about Python 2 and Python 3 are true?\n",
    "> A) For this class, we are only using Python 2\n",
    ">\n",
    "> B) Every line of code that runs in Python version 2 will run exactly as is in version 3\n",
    "> \n",
    "> C) Python version 2 and version 3 have some differences, but are mostly the same\n",
    "> \n",
    "> D) Python 3 is still in beta and not stable"
   ]
  },
  {
   "cell_type": "code",
   "execution_count": 2,
   "metadata": {},
   "outputs": [],
   "source": [
    "answers[\"1.2\"] = \"C\""
   ]
  },
  {
   "cell_type": "markdown",
   "metadata": {},
   "source": [
    "## 1.3 Python Syntax\n",
    "\n",
    "Comparing Python to other programming languages like C++, Java, R, and JavaScript, what is the key difference in syntax?\n",
    "> A) Other languages put quotation marks around variable names\n",
    ">\n",
    "> B) Python uses indenting to separate code blocks, other languages use curly brackets `{ }`\n",
    "> \n",
    "> C) Python can only run on Internet servers, other languages run on your laptop\n",
    ">\n",
    "> D) All of these langauges run faster than Python"
   ]
  },
  {
   "cell_type": "code",
   "execution_count": 3,
   "metadata": {},
   "outputs": [],
   "source": [
    "answers[\"1.3\"] = \"D\""
   ]
  },
  {
   "cell_type": "markdown",
   "metadata": {},
   "source": [
    "### 2.1 Variables\n",
    "In the scenario below, which statments about the variables `a` and `b` are true.\n",
    "```\n",
    "a = [1, 2, 3]\n",
    "b = a\n",
    "```\n",
    "\n",
    "> A) `a` is a list object and `b` is a reference to variable `a`\n",
    "> \n",
    "> B) `a` and `b` both refer to a list object that has three elements\n",
    "> \n",
    "> C) `b` is a separate object that is a copy of `a`\n",
    ">\n",
    "> D) `b` refers to `a` which refers to a list object with three elements\n"
   ]
  },
  {
   "cell_type": "code",
   "execution_count": 4,
   "metadata": {},
   "outputs": [],
   "source": [
    "answers[\"2.1\"] = \"B\""
   ]
  },
  {
   "cell_type": "markdown",
   "metadata": {},
   "source": [
    "### 2.2 Variable Names\n",
    "\n",
    "Which of the following is **NOT** true about how you should name variables?\n",
    "\n",
    "> A) Variable names have to be less than 5 characters in length\n",
    "> \n",
    "> B) Variable names can use abbreviations\n",
    ">\n",
    "> C) Variable names should be readable by humans\n",
    ">\n",
    "> D) Variable names represent a kind of documentation"
   ]
  },
  {
   "cell_type": "code",
   "execution_count": 5,
   "metadata": {},
   "outputs": [],
   "source": [
    "answers[\"2.2\"] = \"A\""
   ]
  },
  {
   "cell_type": "markdown",
   "metadata": {},
   "source": [
    "### 2.3 Why Use Variables\n",
    "\n",
    "Based on the purpose and best practices for using variables in Python, which of the following lines of code represents the best use of variables?  The code in the example below is used to convert degrees Farenheit to degress Celsius.\n",
    "\n",
    "> A) `v2 = (v1 - 32) * 5/9`\n",
    ">\n",
    "> D) `temp_c = (temp_f - 32) * 5/9`\n",
    ">\n",
    "> B) `temperature_in_degrees_celsius = (temperature_in_degrees_farenheit - 32) * 5/9`\n",
    ">\n",
    "> C) `temp-celsius = (temp-farenheight - 32) * 5/9`"
   ]
  },
  {
   "cell_type": "code",
   "execution_count": 6,
   "metadata": {},
   "outputs": [],
   "source": [
    "answers[\"2.3\"] = \"D\""
   ]
  },
  {
   "cell_type": "markdown",
   "metadata": {},
   "source": [
    "### 3.1 Built-in Types\n",
    "\n",
    "Which of the following is NOT a standard built-in data types in base Python.\n",
    "\n",
    "> A) bool\n",
    ">\n",
    "> B) decimal\n",
    ">\n",
    "> C) float\n",
    ">\n",
    "> D) int\n",
    ">\n",
    "> E) None\n"
   ]
  },
  {
   "cell_type": "code",
   "execution_count": 7,
   "metadata": {},
   "outputs": [],
   "source": [
    "answers[\"3.1\"] = \"B\""
   ]
  },
  {
   "cell_type": "markdown",
   "metadata": {},
   "source": [
    "### 3.2 Strings\n",
    "\n",
    "Which is the proper way to create a multi-line string in a Python program?\n",
    "\n",
    "> A) Place `#` characters at the beginning of each line of the string\n",
    ">\n",
    "> B) Place triple-quotes (`'''` or `\"\"\"`) on the first line and last line of the multi-line string\n",
    ">\n",
    "> C) Start the string with a `'` or `\"` and then indent all of the subsquent lines until you place a `'` or `\"` at the end of the multi-line string\n",
    ">\n",
    "> D) You can't create multi-line strings in Python\n"
   ]
  },
  {
   "cell_type": "code",
   "execution_count": 8,
   "metadata": {},
   "outputs": [],
   "source": [
    "answers[\"3.2\"] = \"B\""
   ]
  },
  {
   "cell_type": "markdown",
   "metadata": {},
   "source": [
    "### 3.3 Combining Data\n",
    "\n",
    "Which of the following is not a valid operation?\n",
    "\n",
    "> A) `'She is ' + 93 + ' years old.'`\n",
    ">\n",
    "> B) `'This is a ' + \"complete sentence.\"`\n",
    ">\n",
    "> C) `\"Repeat this! \" * 4`\n",
    ">\n",
    "> D) `3.14 * 7`"
   ]
  },
  {
   "cell_type": "code",
   "execution_count": 9,
   "metadata": {},
   "outputs": [],
   "source": [
    "answers[\"3.3\"] = \"A\""
   ]
  },
  {
   "cell_type": "markdown",
   "metadata": {},
   "source": [
    "### 4.1 Math\n",
    "\n",
    "What will be the output of the following lines of code?  (Yes, I know that you can easily copy and paste this into another notebook and run it.  Please try to reason through it!)\n",
    "\n",
    "```python\n",
    "temp_c = 100\n",
    "temp_f = temp_c * 9//5 + 32\n",
    "temp_f\n",
    "```\n",
    "\n",
    "> A) 212\n",
    ">\n",
    "> B) 132\n",
    ">\n",
    "> C) 32\n",
    "> \n",
    "> D) 98.6"
   ]
  },
  {
   "cell_type": "code",
   "execution_count": 10,
   "metadata": {},
   "outputs": [],
   "source": [
    "answers[\"4.1\"] = \"A\""
   ]
  },
  {
   "cell_type": "markdown",
   "metadata": {},
   "source": [
    "### 4.2 Yummy pi\n",
    "\n",
    "Which code represents the proper way to represent the mathematical expression $pi^2$ ?\n",
    "\n",
    "> A) `pi^2`\n",
    ">\n",
    "> B) `pi ** 2`\n",
    ">\n",
    "> C) `pi x pi`\n",
    ">\n",
    "> D| `pi | 2`"
   ]
  },
  {
   "cell_type": "code",
   "execution_count": 11,
   "metadata": {},
   "outputs": [],
   "source": [
    "answers[\"4.2\"] = \"B\""
   ]
  },
  {
   "cell_type": "markdown",
   "metadata": {},
   "source": [
    "---\n",
    "\n",
    "Checking Your Work\n",
    "---\n",
    "\n",
    "After completing your work above and running each cell, you can check your answers by running the code below. \n",
    "\n",
    "The easiest way to do this is to use the `Kernel` -> `Restart Kernel and Run All Cells` menu option. This option restarts Python and runs every cell from top to bottom until it encounters an exception of some kind.  It will stop after running the cell below and outputing a summary of how many answers you have correct or incorrect.\n"
   ]
  },
  {
   "cell_type": "code",
   "execution_count": 12,
   "metadata": {
    "jupyter": {
     "source_hidden": true
    }
   },
   "outputs": [
    {
     "name": "stdout",
     "output_type": "stream",
     "text": [
      "   Q#               Yours  Correct?\n",
      "  1.1                   A        OK\n",
      "  1.2                   C        OK\n",
      "  1.3                   D        OK\n",
      "  2.1                   B        OK\n",
      "  2.2                   A        OK\n",
      "  2.3                   D        OK\n",
      "  3.1                   B        OK\n",
      "  3.2                   B        OK\n",
      "  3.3                   A        OK\n",
      "  4.1                   A        OK\n",
      "  4.2                   B        OK\n"
     ]
    }
   ],
   "source": [
    "import getpass\n",
    "import boto3\n",
    "import json\n",
    "\n",
    "test = {\n",
    "    \"user\": getpass.getuser(),\n",
    "    \"week\": \"week02\",\n",
    "    \"answers\": answers\n",
    "}\n",
    "\n",
    "client = boto3.client('lambda')\n",
    "\n",
    "response = client.invoke(\n",
    "    FunctionName=\"hds5210\",\n",
    "    InvocationType=\"RequestResponse\",\n",
    "    Payload=json.dumps(test))\n",
    "\n",
    "result = json.loads(response['Payload'].read().decode('utf-8'))\n",
    "\n",
    "print('{0:>5}{1:>20}{2:>10}'.format('Q#','Yours','Correct?'))\n",
    "for row in result.get('results'):\n",
    "    print('{0:>5}{1:>20}{2:>10}'.format(str(row[0]),str(row[1]),str(row[2])))\n"
   ]
  },
  {
   "cell_type": "markdown",
   "metadata": {},
   "source": [
    "---\n",
    "\n",
    "## Check your work above\n",
    "\n",
    "If you didn't get them all correct, take a few minutes to think through those that aren't correct.\n",
    "\n",
    "\n",
    "## Submitting Your Work\n",
    "\n",
    "In order to submit your work, you'll need to use the `git` command line program to **add** your homework file (this file) to your local repository, **commit** your changes to your local repository, and then **push** those changes up to github.com.  From there, I'll be able to **pull** the changes down and do my grading.  I'll provide some feedback, **commit** and **push** my comments back to you.  Next week, I'll show you how to **pull** down my comments.\n",
    "\n",
    "First run through everything one last time and submit your work:\n",
    "1. Use the `Kernel` -> `Restart Kernel and Run All Cells` menu option to run everything from top to bottom and stop here.\n",
    "2. Then open a new command line by clicking the `+` icon above the file list and chosing `Terminal`\n",
    "3. At the command line in the new Terminal, follow these steps:\n",
    "  1. Change directories to your project folder and the week02 subfolder (`cd <folder name>`)\n",
    "  2. Make sure your project folders are up to date with github.com (`git pull`)\n",
    "  3. Add the homework files for this week (`git add <file name>`)\n",
    "  4. Commit your changes (`git commit -m \"message\"`)\n",
    "  5. Push your changes (`git push`)\n",
    "  \n",
    "**Here's a full examle**\n",
    "```\n",
    "cd hds5210-2022/week02\n",
    "git pull\n",
    "git add week02_assignment_1.ipynb week02_assignment_2.ipynb\n",
    "git commit -m \"Submitting homework assignments for week 2\"\n",
    "git push\n",
    "```\n",
    "\n",
    "If anything fails along the way with this submission part of the process, let me know.  I'll help you troubleshoort."
   ]
  },
  {
   "cell_type": "code",
   "execution_count": null,
   "metadata": {},
   "outputs": [],
   "source": []
  }
 ],
 "metadata": {
  "celltoolbar": "Create Assignment",
  "kernelspec": {
   "display_name": "Python 3",
   "language": "python",
   "name": "python3"
  },
  "language_info": {
   "codemirror_mode": {
    "name": "ipython",
    "version": 3
   },
   "file_extension": ".py",
   "mimetype": "text/x-python",
   "name": "python",
   "nbconvert_exporter": "python",
   "pygments_lexer": "ipython3",
   "version": "3.6.7"
  }
 },
 "nbformat": 4,
 "nbformat_minor": 2
}
