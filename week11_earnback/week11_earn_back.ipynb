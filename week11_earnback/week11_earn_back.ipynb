{
 "cells": [
  {
   "cell_type": "markdown",
   "metadata": {},
   "source": [
    "# Week 11 - Earn-Back Points Assignment #1\n",
    "\n",
    "These exercises are entirely optional, but they provide good practice. And you can use them to earn extra points toward your semester grade.  Each problem in this notebook can you earn you back up to 2 points.  There are key requirements, though. If your code does not following these rules, you will earn no points for your work.\n",
    "* You MUST include docstrings that explain the purpose of your code.\n",
    "* You MUST include at least 2 example tests in your docstrings for each function you write.\n",
    "* You MUST run your docstrings within the notebook to show me your code and docstrings work correctly.\n",
    "* You MUST submit your own individual work.  You may not collaborate with other students on these assignments.\n",
    "\n",
    "There will be 4 assignments like this between now and the end of the semester, each with 4 problems, each worth 2 points, for a total of 32 points.\n",
    "\n",
    "**If anything about the above rules is unclear, please message me on Canvas or via email**"
   ]
  },
  {
   "cell_type": "markdown",
   "metadata": {},
   "source": [
    "---"
   ]
  },
  {
   "cell_type": "markdown",
   "metadata": {},
   "source": [
    "## Earn-Back 1: Sunflower Health Plan Files\n",
    "\n",
    "Sunflower Health Plan is one of Centene's state-specific health plans. If you aren't familiar with Centene, they are one of the largest healthcare maangement organizations the country and are headquartered here in St. Louis. Many of your colleagues from previous graduating classes now work at Centene. \n",
    "\n",
    "Sunflower Health Plan has posted links to two files on this page: https://www.sunflowerhealthplan.com/json.html\n",
    "\n",
    "* https://www.sunflowerhealthplan.com/content/dam/centene/sunflower/json/KAPrintProviderDir_Prac.json\n",
    "* https://www.sunflowerhealthplan.com/content/dam/centene/sunflower/json/KAPrintProviderDir_Prov.json\n",
    "\n",
    "This entire problemset asks you to work with these files.\n",
    "\n",
    "Your first step is to write a python function called **get_files(type)** where **type** is a string that contains one of two values: *practitioner* or *provider*.  Your function should download the correct file from the webpage above based on the string value passed to the function. The function should return the objects created by loading that JSON data.\n",
    "\n",
    "**INPUT:** `'practitioneer'` or `'provider'`\n",
    "\n",
    "**OUTPUT:** Python object based on the data from the appropriate file.\n",
    "\n",
    "\n",
    "*Note that these files may take a minute for Python to download. They're big.*"
   ]
  },
  {
   "cell_type": "code",
   "execution_count": 1,
   "metadata": {},
   "outputs": [],
   "source": [
    "import json\n",
    "import requests"
   ]
  },
  {
   "cell_type": "code",
   "execution_count": 2,
   "metadata": {},
   "outputs": [],
   "source": [
    "def get_files(type):\n",
    "    \"\"\"(str)->str\n",
    "    The above function downloaded the data and created objects and obtained the required information\n",
    "    >>> get_files('/https://www.sunflowerhealthplan.com/content/dam/centene/sunflower/json/KAPrintProviderDir_Prac.json')\n",
    "    \n",
    "    >>> get_files('/https://www.sunflowerhealthplan.com/content/dam/centene/sunflower/json/KAPrintProviderDir_Prov.json')\n",
    "    \"\"\"\n",
    "    download_link = ''\n",
    "    if type == 'practitioner':\n",
    "        download_link = 'https://www.sunflowerhealthplan.com/content/dam/centene/sunflower/json/KAPrintProviderDir_Prac.json'\n",
    "    elif type == 'provider':\n",
    "        download_link = 'https://www.sunflowerhealthplan.com/content/dam/centene/sunflower/json/KAPrintProviderDir_Prov.json'\n",
    "    else:\n",
    "        print('Invalid download link type: {}'.format(type))\n",
    "        return\n",
    "    response = requests.get(download_link)\n",
    "    return response.json()"
   ]
  },
  {
   "cell_type": "code",
   "execution_count": null,
   "metadata": {},
   "outputs": [],
   "source": [
    "practioner_json_data = get_files('practitioner')"
   ]
  },
  {
   "cell_type": "code",
   "execution_count": null,
   "metadata": {},
   "outputs": [],
   "source": [
    "print(get_files('practitioner'))"
   ]
  },
  {
   "cell_type": "code",
   "execution_count": null,
   "metadata": {},
   "outputs": [],
   "source": [
    "provider_json_data = get_files('provider')"
   ]
  },
  {
   "cell_type": "code",
   "execution_count": null,
   "metadata": {},
   "outputs": [],
   "source": [
    "print(practioner_json_data[0])"
   ]
  },
  {
   "cell_type": "code",
   "execution_count": null,
   "metadata": {},
   "outputs": [],
   "source": [
    "import doctest\n",
    "doctest.run_docstring_examples(get_files, globals(), verbose=True)"
   ]
  },
  {
   "cell_type": "markdown",
   "metadata": {},
   "source": [
    "## Earn-Back 2: What is this Data?\n",
    "\n",
    "No coding for this part, so no docstrings or tests are required.\n",
    "\n",
    "Explain to in 2-3 sentences, what do you see in these files? If you can't make sense of it from a healthcare business perspective, just tell me what you see in techincal terms."
   ]
  },
  {
   "cell_type": "code",
   "execution_count": null,
   "metadata": {},
   "outputs": [],
   "source": [
    "## About Practitioner Data\n",
    "- There are list of practitioner profile data in practitioner json data, each practitioner has personal data like name, gender, address etc.\n",
    "- Practitioner also has specialty and his provider data"
   ]
  },
  {
   "cell_type": "code",
   "execution_count": null,
   "metadata": {},
   "outputs": [],
   "source": [
    "## About Provider Data\n",
    "- There are list of provider (clinic) data in provider json data\n",
    "- Provider data has provider address, office hours mentioned for each day"
   ]
  },
  {
   "cell_type": "code",
   "execution_count": null,
   "metadata": {},
   "outputs": [],
   "source": [
    "## Relation between Practitioner and Provider\n",
    "- Each practitioner is mapped to provider by a field 'PROVIDER_ID'\n",
    "- Each practitioner has office timings and provider also has office timings"
   ]
  },
  {
   "cell_type": "markdown",
   "metadata": {},
   "source": [
    "## Earn-Back 3: How many are closed on each Day of the Week\n",
    "\n",
    "You'll see in the files a piece of information that tellsu us what the schedule is on every day of the week:\n",
    "\n",
    "```json\n",
    "'PROVIDER_ID': '387724',\n",
    " 'LOCATION_ID': '626140',\n",
    " 'NAME': 'Mercy Clinic Cardiology',\n",
    " 'PROVIDER TYPE': 'GROUP PRACTICE',\n",
    " 'NPI': '1215264817',\n",
    " 'SPECIALTY': 'Multi-Specialty',\n",
    " 'ADDRESS1': '3020 Saint Johns Boulevard',\n",
    " 'ADDRESS2': 'Suite A1',\n",
    " 'ADDRESS3': '',\n",
    " 'CITY': 'Joplin',\n",
    " 'STATE': 'MO',\n",
    " 'ZIP': '64804',\n",
    " 'COUNTY': 'Newton',\n",
    " 'LATITUDE': '37.061',\n",
    " 'LONGITUDE': '-94.536',\n",
    " 'PHONE': '(417) 627-8566-(855) 420-7900',\n",
    " 'AFTER HOUR PHONE': '',\n",
    " 'FAX': '',\n",
    " 'OFFICEHOURS_SU': 'Closed',\n",
    " 'OFFICEHOURS_MO': '8:00 AM - 5:00 PM',\n",
    " 'OFFICEHOURS_TU': '8:00 AM - 5:00 PM',\n",
    " 'OFFICEHOURS_WE': '8:00 AM - 5:00 PM',\n",
    " 'OFFICEHOURS_TH': '8:00 AM - 5:00 PM',\n",
    " 'OFFICEHOURS_FR': '8:00 AM - 5:00 PM',\n",
    " 'OFFICEHOURS_SA': 'Closed',\n",
    " 'HANDICAP ACCESS': 'N',\n",
    " 'WEBSITE': 'www.mercy.net',\n",
    " 'PRODUCT 1': 'GP',\n",
    "\n",
    "```\n",
    "\n",
    "Write a function called **closed_by_day(data)** that takes one parameter (the data that came out of the Provider or Practitioner download) and outputs a dictionary of how many practitioneres / providers are closed on each day:\n",
    "```json\n",
    "{\n",
    "    \"Sunday\": 1401,\n",
    "    \"Monday\": 2,\n",
    "    ...etc...\n",
    "```"
   ]
  },
  {
   "cell_type": "code",
   "execution_count": null,
   "metadata": {},
   "outputs": [],
   "source": [
    "def closed_by_day(data):\n",
    "    \"\"\"(str)->str\n",
    "    The above function returns the closed date of each practitioner by reading the provider id\n",
    "    >>> closed_by_day('/https://www.sunflowerhealthplan.com/content/dam/centene/sunflower/json/KAPrintProviderDir_Prac.json')\n",
    "    'OFFICEHOURS_SU'= 'Closed'\n",
    "    \"\"\"\n",
    "    \n",
    "    output_json = {\"Sunday\":0,\"Monday\":0,\"Tuesday\":0,\"Wednesday\":0,\"Thursday\":0,\"Friday\":0,\"Saturday\":0}\n",
    "    for provider in data:\n",
    "        if 'OFFICEHOURS_SU' in provider.keys() and provider['OFFICEHOURS_SU'] == 'Closed':\n",
    "            output_json['Sunday'] += 1\n",
    "        elif 'OFFICEHOURS_MO' in provider.keys() and provider['OFFICEHOURS_MO'] == 'Closed':\n",
    "            output_json['Monday'] += 1\n",
    "        elif 'OFFICEHOURS_TU' in provider.keys() and provider['OFFICEHOURS_TU'] == 'Closed':\n",
    "            output_json['Tuesday'] += 1\n",
    "        elif 'OFFICEHOURS_WE' in provider.keys() and provider['OFFICEHOURS_WE'] == 'Closed':\n",
    "            output_json['Wednesday'] += 1\n",
    "        elif 'OFFICEHOURS_TH' in provider.keys() and provider['OFFICEHOURS_TH'] == 'Closed':\n",
    "            output_json['Thursday'] += 1\n",
    "        elif 'OFFICEHOURS_FR' in provider.keys() and provider['OFFICEHOURS_FR'] == 'Closed':\n",
    "            output_json['Friday'] += 1\n",
    "        elif 'OFFICEHOURS_SA' in provider.keys() and provider['OFFICEHOURS_SA'] == 'Closed':\n",
    "            output_json['Saturday'] += 1\n",
    "        else:\n",
    "            pass\n",
    "    return output_json"
   ]
  },
  {
   "cell_type": "code",
   "execution_count": null,
   "metadata": {},
   "outputs": [],
   "source": [
    "practitioner_closed_data = closed_by_day(practioner_json_data)"
   ]
  },
  {
   "cell_type": "code",
   "execution_count": null,
   "metadata": {},
   "outputs": [],
   "source": [
    "print(practitioner_closed_data)"
   ]
  },
  {
   "cell_type": "code",
   "execution_count": null,
   "metadata": {},
   "outputs": [],
   "source": [
    "provider_closed_data = closed_by_day(provider_json_data)"
   ]
  },
  {
   "cell_type": "code",
   "execution_count": null,
   "metadata": {},
   "outputs": [],
   "source": [
    "print(provider_closed_data)"
   ]
  },
  {
   "cell_type": "code",
   "execution_count": null,
   "metadata": {},
   "outputs": [],
   "source": [
    "import doctest\n",
    "doctest.run_docstring_examples(closed_by_day, globals(), verbose=False)"
   ]
  },
  {
   "cell_type": "markdown",
   "metadata": {},
   "source": [
    "## Earn-Back 4: Output to a file\n",
    "\n",
    "Now, simply write a function named **to_csv(data, file)** that takes this summary view of information as a dictionary (the `data` parameter) and writes it out to a CSV file (the `file` parameter)."
   ]
  },
  {
   "cell_type": "code",
   "execution_count": null,
   "metadata": {},
   "outputs": [],
   "source": [
    "import pandas as pd\n",
    "def to_csv(data,file):\n",
    "    df_data = {}\n",
    "    df_data['Day']=data.keys()\n",
    "    df_data['Closed Count'] = data.values()\n",
    "    df = pd.DataFrame.from_dict(df_data)\n",
    "    df.to_csv(file,index=None)"
   ]
  },
  {
   "cell_type": "code",
   "execution_count": null,
   "metadata": {},
   "outputs": [],
   "source": [
    "to_csv(practitioner_closed_data,'practitioner_closed_data.csv')"
   ]
  },
  {
   "cell_type": "code",
   "execution_count": null,
   "metadata": {},
   "outputs": [],
   "source": [
    "to_csv(provider_closed_data,'provider_closed_data.csv')"
   ]
  },
  {
   "cell_type": "markdown",
   "metadata": {},
   "source": [
    "## Submit your work to github in your week 11 folder by 11/18 11:59 PM"
   ]
  },
  {
   "cell_type": "code",
   "execution_count": null,
   "metadata": {},
   "outputs": [],
   "source": []
  }
 ],
 "metadata": {
  "kernelspec": {
   "display_name": "Python 3",
   "language": "python",
   "name": "python3"
  },
  "language_info": {
   "codemirror_mode": {
    "name": "ipython",
    "version": 3
   },
   "file_extension": ".py",
   "mimetype": "text/x-python",
   "name": "python",
   "nbconvert_exporter": "python",
   "pygments_lexer": "ipython3",
   "version": "3.6.7"
  }
 },
 "nbformat": 4,
 "nbformat_minor": 4
}
