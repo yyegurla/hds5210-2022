{
 "cells": [
  {
   "cell_type": "markdown",
   "metadata": {
    "nbgrader": {
     "grade": false,
     "grade_id": "intro",
     "locked": true,
     "schema_version": 1,
     "solution": false
    }
   },
   "source": [
    "# Week 2 Exercises\n",
    "\n",
    "_modules 9 - 13_\n",
    "\n",
    "This assignment is to be completed after watching the video lectures for modules 9 - 13, understanding how to control the flow of code execution through things like loops (for, while, range) and conditions (if).  Please review the content in those modules through Blackboard and then complete the review below as instructed.  When complete, there are instructions at the bottom of the exercise that will allow you to check your work and then submit it via github.com\n",
    "\n",
    "For each of the multiple choice quesitons below, do not change the variable name.  Only change the answer part to match whichever letter or letters are the correct answer.  \n",
    "\n",
    "For example, in the problem below, the correct answer is `D`, so you would provide the answer as show.\n",
    "\n",
    "---\n",
    "```\n",
    "0.1 Instructor's Name\n",
    "The correct spelling of this instructor's last name is:\n",
    " A) Bowl\n",
    " B) Bole\n",
    " C) Boll\n",
    " D) Boal\n",
    "```\n",
    "---\n",
    "```\n",
    "answer[\"0.1\"]=\"D\"\n",
    "```\n",
    "---\n",
    "\n",
    "Do not change anything else or add any other code to this notebook. If you need to do scratch work to determine an answer, create a new notebook and do your work there."
   ]
  },
  {
   "cell_type": "markdown",
   "metadata": {},
   "source": [
    "---\n",
    "---"
   ]
  },
  {
   "cell_type": "markdown",
   "metadata": {},
   "source": [
    "### 9.1 - Which of the statements about Python IF statements is TRUE:\n",
    "\n",
    "> A) IF can only perform a test on numerical values\n",
    ">\n",
    "> B) The IF statement will cause an error if the condition is not TRUE and there is no ELSE statement\n",
    ">\n",
    "> C) Executes only the next one line of code if the test is True\n",
    ">\n",
    "> D) Your code can contain as many IF / ELIF branches of logic as you want\n"
   ]
  },
  {
   "cell_type": "code",
   "execution_count": 1,
   "metadata": {},
   "outputs": [],
   "source": [
    "answers = {}\n",
    "answers[\"9.1\"] = \"D\""
   ]
  },
  {
   "cell_type": "markdown",
   "metadata": {},
   "source": [
    "### 9.2 - What will the following code print to the screen?\n",
    "_Try to do this by reading it, not copying and pasting it into a notebook_\n",
    "\n",
    "```python\n",
    "age = 21\n",
    "\n",
    "if age <= 18:\n",
    "    label = 'kid'\n",
    "\n",
    "print(label)\n",
    "```\n",
    "\n",
    "> A) `adult`\n",
    ">\n",
    "> B) `kid`\n",
    ">\n",
    "> C) _nothing_\n",
    ">\n",
    "> D) It will report an error message"
   ]
  },
  {
   "cell_type": "code",
   "execution_count": 2,
   "metadata": {},
   "outputs": [],
   "source": [
    "answers[\"9.2\"] = \"D\""
   ]
  },
  {
   "cell_type": "markdown",
   "metadata": {},
   "source": [
    "### 9.3 - What will the follow code print to the screen?\n",
    "\n",
    "```python\n",
    "temp = 22\n",
    "precipitation = 'wet'\n",
    "\n",
    "if precipitation != 'wet':\n",
    "    weather = 'dry'\n",
    "else:\n",
    "    if temp > 32:\n",
    "        weather = 'rain'\n",
    "    elif temp < 32:\n",
    "        weather = 'sleet'\n",
    "    elif temp < 28:\n",
    "        weather = 'mix'\n",
    "    else:\n",
    "        weather = 'snow'\n",
    "\n",
    "print(weather)\n",
    "```\n",
    "\n",
    "> A) `dry`\n",
    ">\n",
    "> B) `mix`\n",
    ">\n",
    "> C) `sleet`\n",
    ">\n",
    "> D) `snow`\n"
   ]
  },
  {
   "cell_type": "code",
   "execution_count": 3,
   "metadata": {},
   "outputs": [],
   "source": [
    "answers[\"9.3\"] = \"C\""
   ]
  },
  {
   "cell_type": "markdown",
   "metadata": {},
   "source": [
    "### 10.1 - How many times will the following code print the phrase 'Hello World!'?\n",
    "\n",
    "```python\n",
    "start = 1\n",
    "stop = 1000\n",
    "\n",
    "for num in range(start, stop):\n",
    "    print('Hello World!')\n",
    "    start = start + 5\n",
    "```\n",
    "\n",
    "> A) 200 times\n",
    ">\n",
    "> B) 199 times\n",
    ">\n",
    "> C) 999 times\n",
    ">\n",
    "> D) 1000 times"
   ]
  },
  {
   "cell_type": "code",
   "execution_count": 4,
   "metadata": {},
   "outputs": [],
   "source": [
    "answers[\"10.1\"] = \"C\""
   ]
  },
  {
   "cell_type": "markdown",
   "metadata": {},
   "source": [
    "### 10.2 - Which of these best describes how the `range` function works?\n",
    "\n",
    "> A) It generates a list of values, and then steps through every element of that list.\n",
    ">\n",
    "> B) It returns an `iterable` object that returns the next value each time the loop is repeated.\n",
    ">\n",
    "> C) It pre-generates (copies / pastes) the code required to execute the `for` loop according to the range() parameters\n",
    ">\n",
    "> D) If just runs the specified code as many times as necessary to create the right output.\n"
   ]
  },
  {
   "cell_type": "code",
   "execution_count": 5,
   "metadata": {},
   "outputs": [],
   "source": [
    "answers[\"10.2\"] = \"B\""
   ]
  },
  {
   "cell_type": "markdown",
   "metadata": {},
   "source": [
    "### 11.1 - If you accidentally run an infine while loop in Jupyter:\n",
    "\n",
    "> A) Close the browser window and it will automatically stop.\n",
    ">\n",
    "> B) Interrupt or restart the kernel.\n",
    ">\n",
    "> C) You will overheat the server and burn it up, causing the instructor to pay a big fine and you to fail the class.\n",
    ">\n",
    "> D) Slack the professor so that he can stop the loop for you."
   ]
  },
  {
   "cell_type": "code",
   "execution_count": 6,
   "metadata": {},
   "outputs": [],
   "source": [
    "answers[\"11.1\"] = \"B\""
   ]
  },
  {
   "cell_type": "markdown",
   "metadata": {},
   "source": [
    "### 11.2 - What will the following code print to the screen?\n",
    "_Try to determine the answer by reading the code, not by copying and pasting it into another notebook._\n",
    "\n",
    "```python\n",
    "counter = 1\n",
    "\n",
    "while (counter < 10):\n",
    "    print(counter)\n",
    "    break\n",
    "```\n",
    "\n",
    "> A) `1,2,3,4,5,6,7,8,9,10`\n",
    ">\n",
    "> B) `1,2,3,4,5,6,7,8,9`\n",
    ">\n",
    "> C) `1`\n",
    ">\n",
    "> D) _nothing_"
   ]
  },
  {
   "cell_type": "code",
   "execution_count": 7,
   "metadata": {},
   "outputs": [],
   "source": [
    "answers[\"11.2\"] = \"C\""
   ]
  },
  {
   "cell_type": "markdown",
   "metadata": {},
   "source": [
    "### 11.3 - What will the follow code do?\n",
    "\n",
    "```python\n",
    "status = True\n",
    "\n",
    "while (status):\n",
    "    status =  False\n",
    "    \n",
    "while (status):\n",
    "    status = True\n",
    "    print(\"The status is now true\")\n",
    "```\n",
    "\n",
    "> A) The code will print 'The status is now true'\n",
    ">\n",
    "> B) The code will run but nothing will print to the screen\n",
    ">\n",
    "> C) Only the very first line of code will execute\n",
    ">\n",
    "> D) You will create an infinite loop and experience the consequences in 11.1"
   ]
  },
  {
   "cell_type": "code",
   "execution_count": 8,
   "metadata": {},
   "outputs": [],
   "source": [
    "answers[\"11.3\"] = \"B\""
   ]
  },
  {
   "cell_type": "markdown",
   "metadata": {},
   "source": [
    "### 12.1 - Which of the following is **not** a true statement about the `range` function?\n",
    "\n",
    "> A) `range()` always produces incrementing numbers\n",
    ">\n",
    "> B) `range()` doesn't actually create the whole list of output numbers all at once\n",
    ">\n",
    "> C) `range()` can only produce integer values\n",
    ">\n",
    "> D) `range()` can use negative numbers for start and end values"
   ]
  },
  {
   "cell_type": "code",
   "execution_count": 9,
   "metadata": {},
   "outputs": [],
   "source": [
    "answers[\"12.1\"] = \"A\""
   ]
  },
  {
   "cell_type": "markdown",
   "metadata": {},
   "source": [
    "### 12.2 - How many numbers will the following code output?\n",
    "\n",
    "```python\n",
    "for value in range(-1,1,1):\n",
    "    print(value)\n",
    "```\n",
    "\n",
    "> A) _None_\n",
    ">\n",
    "> B) 1\n",
    ">\n",
    "> C) 2\n",
    ">\n",
    "> D) 3"
   ]
  },
  {
   "cell_type": "code",
   "execution_count": 10,
   "metadata": {},
   "outputs": [],
   "source": [
    "answers[\"12.2\"] = \"C\""
   ]
  },
  {
   "cell_type": "markdown",
   "metadata": {},
   "source": [
    "### 12.3 - What is the last number this `range` call will produce?\n",
    "\n",
    "```python\n",
    "for value in range(8,10,-2):\n",
    "    print(value)\n",
    "```\n",
    "\n",
    "> A) 8\n",
    ">\n",
    "> B) 10\n",
    ">\n",
    "> C) 9\n",
    ">\n",
    "> D) _it will produce nothing_"
   ]
  },
  {
   "cell_type": "code",
   "execution_count": 11,
   "metadata": {},
   "outputs": [],
   "source": [
    "answers[\"12.3\"] = \"D\""
   ]
  },
  {
   "cell_type": "markdown",
   "metadata": {},
   "source": [
    "### 13.1 - What is another name for the inline if statement?\n",
    "\n",
    "> A) Conditional\n",
    ">\n",
    "> B) Three-part if\n",
    ">\n",
    "> C) Ternary operator\n",
    ">\n",
    "> D) IFF"
   ]
  },
  {
   "cell_type": "code",
   "execution_count": 12,
   "metadata": {},
   "outputs": [],
   "source": [
    "answers[\"13.1\"] = \"C\""
   ]
  },
  {
   "cell_type": "markdown",
   "metadata": {},
   "source": [
    "### 13.2 - Which of the following pairs of parameters and outputs are correct?\n",
    "\n",
    "```python\n",
    "def label(age, gender):\n",
    "    return (\n",
    "        ('young ' if age < 18 else ('retired ' if age > 65 else '')) + \n",
    "        ('lady' if gender == 'female' else 'guy')\n",
    "    )\n",
    "```\n",
    "\n",
    "> A) `label(67, 'male') == 'man'`\n",
    ">\n",
    "> B) `label(18, 'female') == 'young lady'`\n",
    ">\n",
    "> C) `label(4, 'female') == 'young lady'`\n",
    ">\n",
    "> D) `label(65, 'male') == 'man'`"
   ]
  },
  {
   "cell_type": "code",
   "execution_count": 13,
   "metadata": {},
   "outputs": [],
   "source": [
    "answers[\"13.2\"] = [\"C\"]"
   ]
  },
  {
   "cell_type": "markdown",
   "metadata": {},
   "source": [
    "---\n",
    "\n",
    "Checking Your Work\n",
    "---\n",
    "\n",
    "After completing your work above and running each cell, you can check your answers by running the code below. \n",
    "\n",
    "The easiest way to do this is to use the `Kernel` -> `Restart Kernel and Run All Cells` menu option. This option restarts Python and runs every cell from top to bottom until it encounters an exception of some kind.  It will stop after running the cell below and outputing a summary of how many answers you have correct or incorrect.\n"
   ]
  },
  {
   "cell_type": "code",
   "execution_count": 14,
   "metadata": {},
   "outputs": [
    {
     "name": "stdout",
     "output_type": "stream",
     "text": [
      "   Q#               Yours  Correct?\n",
      "  9.1                   D        OK\n",
      "  9.2                   D        OK\n",
      "  9.3                   C        OK\n",
      " 10.1                   C        OK\n",
      " 10.2                   B        OK\n",
      " 11.1                   B        OK\n",
      " 11.2                   C        OK\n",
      " 11.3                   B        OK\n",
      " 12.1                   A        OK\n",
      " 12.2                   C        OK\n",
      " 12.3                   D        OK\n",
      " 13.1                   C        OK\n",
      " 13.2               ['C']        OK\n"
     ]
    }
   ],
   "source": [
    "import getpass\n",
    "import boto3\n",
    "import json\n",
    "\n",
    "test = {\n",
    "    \"user\": getpass.getuser(),\n",
    "    \"week\": \"week03\",\n",
    "    \"answers\": answers\n",
    "}\n",
    "\n",
    "client = boto3.client('lambda')\n",
    "\n",
    "response = client.invoke(\n",
    "    FunctionName=\"hds5210\",\n",
    "    InvocationType=\"RequestResponse\",\n",
    "    Payload=json.dumps(test))\n",
    "\n",
    "result = json.loads(response['Payload'].read().decode('utf-8'))\n",
    "\n",
    "print('{0:>5}{1:>20}{2:>10}'.format('Q#','Yours','Correct?'))\n",
    "for row in result.get('results'):\n",
    "    print('{0:>5}{1:>20}{2:>10}'.format(str(row[0]),str(row[1]),str(row[2])))\n"
   ]
  },
  {
   "cell_type": "markdown",
   "metadata": {},
   "source": [
    "---\n",
    "\n",
    "## Check your work above\n",
    "\n",
    "If you didn't get them all correct, take a few minutes to think through those that aren't correct.\n",
    "\n",
    "\n",
    "## Submitting Your Work\n",
    "\n",
    "In order to submit your work, you'll need to use the `git` command line program to **add** your homework file (this file) to your local repository, **commit** your changes to your local repository, and then **push** those changes up to github.com.  From there, I'll be able to **pull** the changes down and do my grading.  I'll provide some feedback, **commit** and **push** my comments back to you.  Next week, I'll show you how to **pull** down my comments.\n",
    "\n",
    "First run through everything one last time and submit your work:\n",
    "1. Use the `Kernel` -> `Restart Kernel and Run All Cells` menu option to run everything from top to bottom and stop here.\n",
    "2. Then open a new command line by clicking the `+` icon above the file list and chosing `Terminal`\n",
    "3. At the command line in the new Terminal, follow these steps:\n",
    "  1. Change directories to your project folder and the week03 subfolder (`cd <folder name>`)\n",
    "  2. Make sure your project folders are up to date with github.com (`git pull`)\n",
    "  3. Add the homework files for this week (`git add <file name>`)\n",
    "  4. Commit your changes (`git commit -m \"message\"`)\n",
    "  5. Push your changes (`git push`)\n",
    "  \n",
    "**Here's a full examle**\n",
    "```\n",
    "cd hds5210-2022/week03\n",
    "git pull\n",
    "git add week03_assignment_1.ipynb week03_assignment_2.ipynb\n",
    "git commit -a -m \"Submitting homework assignments for week 2\"\n",
    "git push\n",
    "```\n",
    "\n",
    "If anything fails along the way with this submission part of the process, let me know.  I'll help you troubleshoort."
   ]
  },
  {
   "cell_type": "markdown",
   "metadata": {},
   "source": [
    "\n",
    "---\n",
    "\n",
    "If the message above says something like _Submitting the week 3 review exercises_ or _Everything is up to date_, then your work was submitted correctly."
   ]
  },
  {
   "cell_type": "code",
   "execution_count": null,
   "metadata": {},
   "outputs": [],
   "source": []
  }
 ],
 "metadata": {
  "celltoolbar": "Create Assignment",
  "kernelspec": {
   "display_name": "Python 3",
   "language": "python",
   "name": "python3"
  },
  "language_info": {
   "codemirror_mode": {
    "name": "ipython",
    "version": 3
   },
   "file_extension": ".py",
   "mimetype": "text/x-python",
   "name": "python",
   "nbconvert_exporter": "python",
   "pygments_lexer": "ipython3",
   "version": "3.6.7"
  }
 },
 "nbformat": 4,
 "nbformat_minor": 2
}
