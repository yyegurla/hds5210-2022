{
 "cells": [
  {
   "cell_type": "code",
   "execution_count": 1,
   "metadata": {},
   "outputs": [],
   "source": [
    "def LACE(length_of_stay, acute_flag, charlson_index, ed_visits):\n",
    "    \"\"\"(int, bool, int, int) -> int\n",
    "    This function uses the logic from https://www.hindawi.com/journals/bmri/2015/169870/tab1/\n",
    "    to compute the LACE score for this patient.\n",
    "    \n",
    "    >>> LACE(4, False, 1, 0)\n",
    "    5\n",
    "    \n",
    "    >>> LACE(4, True, 4, 7)\n",
    "    16\n",
    "    \n",
    "    \"\"\"\n",
    " \n",
    "    ### BEGIN SOLUTION\n",
    "    if length_of_stay < 1: length_of_stay=0\n",
    "    elif length_of_stay==1: length_of_stay=1\n",
    "    elif length_of_stay==2: length_of_stay=2\n",
    "    elif length_of_stay==3: length_of_stay=3\n",
    "    elif length_of_stay>=4 and length_of_stay<=6 : length_of_stay=4\n",
    "    elif length_of_stay>=7 and length_of_stay<=13 : length_of_stay=5\n",
    "    elif length_of_stay>=14: length_of_stay=7    \n",
    "    \n",
    "    if acute_flag==True: acute_flag=3\n",
    "    elif acute_flag==False: acute_flag=0\n",
    "    \n",
    "    if charlson_index==0: charlson_index=0\n",
    "    elif charlson_index==1: charlson_index=1\n",
    "    elif charlson_index==2: charlson_index=2\n",
    "    elif charlson_index==3: charlson_index=3\n",
    "    elif charlson_index>=4: charlson_index=5\n",
    "        \n",
    "    if ed_visits==0: ed_visits=0\n",
    "    elif ed_visits==1: ed_visits=1\n",
    "    elif ed_visits==2: ed_visits=2\n",
    "    elif ed_visits==3: ed_visits=3\n",
    "    elif ed_visits>=4: ed_visits=4\n",
    "        \n",
    "    score=length_of_stay+acute_flag+charlson_index+ed_visits\n",
    "    \n",
    "    ### END SOLUTION\n",
    "    \n",
    "    \n",
    "    return score"
   ]
  },
  {
   "cell_type": "code",
   "execution_count": 2,
   "metadata": {},
   "outputs": [
    {
     "data": {
      "text/plain": [
       "16"
      ]
     },
     "execution_count": 2,
     "metadata": {},
     "output_type": "execute_result"
    }
   ],
   "source": [
    "LACE(4, True, 4, 7)"
   ]
  },
  {
   "cell_type": "code",
   "execution_count": 3,
   "metadata": {},
   "outputs": [],
   "source": [
    "def assign_care_coordinator(diagnosis_cd, ed_visits, length_of_stay, acute_flag, charlson_index):\n",
    "    \"\"\" (str, int, int, bool, int) -> bool\n",
    "    Care managers use LACE as part of the criteria for assigning a care coodinator to a \n",
    "    patient who has been recently discharged. If the score is above 10, then a care \n",
    "    coordinator will be assigned. The other criteria they use is if the patient has been \n",
    "    discharged with a diagnosis of CHF or COPD. If the diagnosis field has CHF or COPD in \n",
    "    it, then the patient will have a care coordinator assigned.\n",
    "    \"\"\"\n",
    "    \n",
    "    ### BEGIN SOLUTION\n",
    "    if diagnosis_cd=='CHF' or diagnosis_cd=='COPD': assignment=True\n",
    "    else:\n",
    "        \n",
    "        if ed_visits==0: ed_visits=0\n",
    "        elif ed_visits==1: ed_visits=1\n",
    "        elif ed_visits==2: ed_visits=2\n",
    "        elif ed_visits==3: ed_visits=3\n",
    "        elif ed_visits>=4: ed_visits=4\n",
    "    \n",
    "        if length_of_stay < 1: length_of_stay=0\n",
    "        elif length_of_stay==1: length_of_stay=1\n",
    "        elif length_of_stay==2: length_of_stay=2\n",
    "        elif length_of_stay==3: length_of_stay=3\n",
    "        elif length_of_stay>=4 and length_of_stay<=6 : length_of_stay=4\n",
    "        elif length_of_stay>=7 and length_of_stay<=13 : length_of_stay=5\n",
    "        elif length_of_stay>=14: length_of_stay=7    \n",
    "\n",
    "        if acute_flag==True: acute_flag=3\n",
    "        elif acute_flag==False: acute_flag=0\n",
    "\n",
    "        if charlson_index==0: charlson_index=0\n",
    "        elif charlson_index==1: charlson_index=1\n",
    "        elif charlson_index==2: charlson_index=2\n",
    "        elif charlson_index==3: charlson_index=3\n",
    "        elif charlson_index>=4: charlson_index=5\n",
    "\n",
    "        score=length_of_stay+acute_flag+charlson_index+ed_visits\n",
    "\n",
    "        if score>10: assignment=True\n",
    "        else: assignment=False\n",
    "\n",
    "    \n",
    "    ### END SOLUTION\n",
    "        \n",
    "    return assignment\n",
    "    "
   ]
  },
  {
   "cell_type": "code",
   "execution_count": 4,
   "metadata": {},
   "outputs": [
    {
     "data": {
      "text/plain": [
       "False"
      ]
     },
     "execution_count": 4,
     "metadata": {},
     "output_type": "execute_result"
    }
   ],
   "source": [
    "assign_care_coordinator('None', 0, 4, False, 1)"
   ]
  },
  {
   "cell_type": "code",
   "execution_count": 5,
   "metadata": {},
   "outputs": [],
   "source": [
    "def qcsi(respiratory_rate, pulse_ox, o2_flow):\n",
    "    \"\"\"(int, int, int) -> str\n",
    "    * respiratory_rate is an integer value\n",
    "    * pulse_ox is an integer value (e.g. 30 means 30%)\n",
    "    * o2_flow is an integer value\n",
    "    \"\"\"\n",
    "    \n",
    "    ### BEGIN SOLUTION\n",
    "    \n",
    "    if respiratory_rate<=22: respiratory_rate=0\n",
    "    elif respiratory_rate>=23 and respiratory_rate<=28: respiratory_rate=1\n",
    "    elif respiratory_rate>28: respiratory_rate=2\n",
    "    \n",
    "    if  pulse_ox>92:  pulse_ox=0\n",
    "    elif  pulse_ox>=89 and  pulse_ox<=92:  pulse_ox=2\n",
    "    elif  pulse_ox<=88:  pulse_ox=5\n",
    "        \n",
    "    elif o2_flow<=2: o2_flow=0\n",
    "    elif o2_flow==3 or o2_flow==4: o2_flow=4\n",
    "    elif o2_flow==5 or o2_flow==6: o2_flow=5\n",
    "    \n",
    "    score = respiratory_rate+pulse_ox+o2_flow\n",
    "    \n",
    "    if score<=3: risk='low'\n",
    "    elif score>=4 and score<=6: risk='low-intermediate'\n",
    "    elif score>=7 and score<=9: risk='high-intermediate'\n",
    "    elif score>=10 and score<=12: risk='high'\n",
    "    \n",
    "    if respiratory_rate<=0: risk='invalid respiratory rate'\n",
    "    if  pulse_ox<=0 or  pulse_ox > 100 : risk='invalid pulse ox'\n",
    "    if o2_flow<=0: risk='invalid flow rate'\n",
    "    \n",
    "        \n",
    "            \n",
    "    ### END SOLUTION\n",
    "    \n",
    "    return risk"
   ]
  },
  {
   "cell_type": "code",
   "execution_count": 6,
   "metadata": {},
   "outputs": [
    {
     "data": {
      "text/plain": [
       "'invalid pulse ox'"
      ]
     },
     "execution_count": 6,
     "metadata": {},
     "output_type": "execute_result"
    }
   ],
   "source": [
    "qcsi(29, 95, 1)"
   ]
  },
  {
   "cell_type": "code",
   "execution_count": 7,
   "metadata": {},
   "outputs": [
    {
     "data": {
      "text/plain": [
       "'invalid flow rate'"
      ]
     },
     "execution_count": 7,
     "metadata": {},
     "output_type": "execute_result"
    }
   ],
   "source": [
    "qcsi(28, 92, -1)"
   ]
  },
  {
   "cell_type": "code",
   "execution_count": 8,
   "metadata": {},
   "outputs": [
    {
     "data": {
      "text/plain": [
       "'invalid pulse ox'"
      ]
     },
     "execution_count": 8,
     "metadata": {},
     "output_type": "execute_result"
    }
   ],
   "source": [
    "qcsi(0, 97, 2)"
   ]
  },
  {
   "cell_type": "code",
   "execution_count": null,
   "metadata": {},
   "outputs": [],
   "source": []
  }
 ],
 "metadata": {
  "kernelspec": {
   "display_name": "Python 3",
   "language": "python",
   "name": "python3"
  },
  "language_info": {
   "codemirror_mode": {
    "name": "ipython",
    "version": 3
   },
   "file_extension": ".py",
   "mimetype": "text/x-python",
   "name": "python",
   "nbconvert_exporter": "python",
   "pygments_lexer": "ipython3",
   "version": "3.6.7"
  }
 },
 "nbformat": 4,
 "nbformat_minor": 4
}
