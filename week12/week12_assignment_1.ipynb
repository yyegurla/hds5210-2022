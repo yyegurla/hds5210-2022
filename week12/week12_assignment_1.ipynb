{
 "cells": [
  {
   "cell_type": "markdown",
   "metadata": {},
   "source": [
    "# Week 12 Review Assignment"
   ]
  },
  {
   "cell_type": "markdown",
   "metadata": {},
   "source": [
    "In this week's lectures, we talked about \"pivoting\" data between wide formats and long formats.  This is an extremely useful process when trying to understand, aggregate, and process data in different ways.  Similiar to Excel Pivot Tables, pivoting data with Pandas can help you aggregate data and look for patterns more easily.\n",
    "\n",
    "Test your knowledge of the content from the lectures through the multiple choice questions below.\n",
    "\n",
    "---\n",
    "---"
   ]
  },
  {
   "cell_type": "markdown",
   "metadata": {},
   "source": [
    "### 48.1 Which of the following functions can pivot data in Pandas from long to wide formats?\n",
    "\n",
    "> A) flatten\n",
    ">\n",
    "> B) pivot_table\n",
    "> \n",
    "> C) pivot\n",
    ">\n",
    "> D) expand"
   ]
  },
  {
   "cell_type": "code",
   "execution_count": 1,
   "metadata": {},
   "outputs": [],
   "source": [
    "answers = {}\n",
    "answers['48.1'] = [\"B\",\"C\"]"
   ]
  },
  {
   "cell_type": "markdown",
   "metadata": {},
   "source": [
    "### 48.2 Given the code below, what columns will the resulting data frame have?\n",
    "\n",
    "\n",
    "```python\n",
    "data.pivot(index='Txn', columns='Dept', values='Amount)\n",
    "```\n",
    "\n",
    "\n",
    "| Txn | Dept | Amount |\n",
    "|---|---|---|\n",
    "| A8739 | Finance | 10.21 |\n",
    "| A9821 | IT | 91.13 |\n",
    "| A8739 | Hospital | 11.33 |\n",
    "| AB783 | HR | 190.29 |\n",
    "| A1123 | Hospital | 98.44 |\n",
    "| A8719 | IT | 43.88 |\n",
    "\n",
    "\n",
    "> A) Dept\n",
    ">\n",
    "> B) Txn, Amount 1, Amount 2, Amount 3, Amount 4\n",
    "> \n",
    "> C) Finance, IT, HR, Hospital, Amount\n",
    ">\n",
    "> D) Txn, Finance, IT, Hospital, HR"
   ]
  },
  {
   "cell_type": "code",
   "execution_count": 2,
   "metadata": {},
   "outputs": [],
   "source": [
    "answers['48.2'] = \"C\""
   ]
  },
  {
   "cell_type": "markdown",
   "metadata": {},
   "source": [
    "### 49.1 Which of the following functions can stack a Pandas data frame from wide to long formats?\n",
    "\n",
    "> A) melt\n",
    ">\n",
    "> B) pivot\n",
    ">\n",
    "> C) wide_to_long\n",
    ">\n",
    "> D) stack"
   ]
  },
  {
   "cell_type": "code",
   "execution_count": 3,
   "metadata": {},
   "outputs": [],
   "source": [
    "answers['49.1'] = [\"A\",\"C\",\"D\"]"
   ]
  },
  {
   "cell_type": "code",
   "execution_count": null,
   "metadata": {},
   "outputs": [],
   "source": []
  },
  {
   "cell_type": "code",
   "execution_count": null,
   "metadata": {},
   "outputs": [],
   "source": []
  },
  {
   "cell_type": "markdown",
   "metadata": {},
   "source": [
    "---\n",
    "\n",
    "Checking Your Work\n",
    "---\n",
    "\n",
    "After completing your work above and running each cell, you can check your answers by running the code below. \n",
    "\n",
    "The easiest way to do this is to use the `Kernel` -> `Restart Kernel and Run All Cells` menu option. This option restarts Python and runs every cell from top to bottom until it encounters an exception of some kind.  It will stop after running the cell below and outputing a summary of how many answers you have correct or incorrect.\n"
   ]
  },
  {
   "cell_type": "code",
   "execution_count": 4,
   "metadata": {
    "jupyter": {
     "source_hidden": true
    }
   },
   "outputs": [
    {
     "name": "stdout",
     "output_type": "stream",
     "text": [
      "   Q#               Yours  Correct?\n",
      " 48.1          ['B', 'C']        OK\n",
      " 48.2                   C        OK\n",
      " 49.1     ['A', 'C', 'D']        OK\n"
     ]
    }
   ],
   "source": [
    "import getpass\n",
    "import boto3\n",
    "import json\n",
    "\n",
    "test = {\n",
    "    \"user\": getpass.getuser(),\n",
    "    \"week\": \"week12\",\n",
    "    \"answers\": answers\n",
    "}\n",
    "\n",
    "client = boto3.client('lambda')\n",
    "\n",
    "response = client.invoke(\n",
    "    FunctionName=\"hds5210\",\n",
    "    InvocationType=\"RequestResponse\",\n",
    "    Payload=json.dumps(test))\n",
    "\n",
    "result = json.loads(response['Payload'].read().decode('utf-8'))\n",
    "# print(result)\n",
    "\n",
    "try:\n",
    "    print('{0:>5}{1:>20}{2:>10}'.format('Q#','Yours','Correct?'))\n",
    "    for row in result.get('results'):\n",
    "        print('{0:>5}{1:>20}{2:>10}'.format(str(row[0]),str(row[1]),str(row[2])))\n",
    "except:\n",
    "    print(result)"
   ]
  },
  {
   "cell_type": "markdown",
   "metadata": {},
   "source": [
    "---\n",
    "\n",
    "## Check your work above\n",
    "\n",
    "If you didn't get them all correct, take a few minutes to think through those that aren't correct.\n",
    "\n",
    "\n",
    "## Submitting Your Work\n",
    "\n",
    "Submit as usual"
   ]
  }
 ],
 "metadata": {
  "kernelspec": {
   "display_name": "Python 3",
   "language": "python",
   "name": "python3"
  },
  "language_info": {
   "codemirror_mode": {
    "name": "ipython",
    "version": 3
   },
   "file_extension": ".py",
   "mimetype": "text/x-python",
   "name": "python",
   "nbconvert_exporter": "python",
   "pygments_lexer": "ipython3",
   "version": "3.6.7"
  }
 },
 "nbformat": 4,
 "nbformat_minor": 4
}
