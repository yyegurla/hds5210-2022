{
 "cells": [
  {
   "cell_type": "markdown",
   "metadata": {},
   "source": [
    "# HDS5210-2022 Fall Midterm\n",
    "\n",
    "In the midterm exercise, you're going to use all the programming and data management skills you've developed so far to build a pricing calculator that will calculate how much money should be reimbursed for the visits in a CSV file. To do this, you will need to get allowed amounts (aka rates) from a JSON file, apply some special rules, and then calculate various totals by hospital or by month.\n",
    "\n",
    "Each step of the midterm will build up to form your final solution. Along the way, I've provided plenty of test cases to make sure you're getting each step correct.\n",
    "\n",
    "All functions require docstrings with a description and at least one test case.\n",
    "\n",
    "The midterm is due Monday, October 24th at 11:59 PM CST.\n",
    "\n",
    "---"
   ]
  },
  {
   "cell_type": "markdown",
   "metadata": {},
   "source": [
    "## Step 1: Average Rate\n",
    "\n",
    "With the `/data/negotiated_rates.json` file as input for your first function, read all the `allowed_amount` attributes and calculate an average allowed amount over all rates in the file.\n",
    "\n",
    "Your function should be named **average_rate()**, take the file's name as it's input parameter, and return a float as the result.\n",
    "\n",
    "**ROUND YOUR ANSWER TO 2 DECIMAL PLACES**"
   ]
  },
  {
   "cell_type": "code",
   "execution_count": 1,
   "metadata": {},
   "outputs": [],
   "source": [
    "import json\n",
    "def average_rate(file):\n",
    "    \"\"\"(str) -> float\n",
    "    The above function useful for getting the allowed_amounts and calculates the average rate\n",
    "    >>> average_rate('/data/negotiated_rates.json')\n",
    "    38.67\n",
    "    \n",
    "    \"\"\"\n",
    "    with open(file) as json_file:\n",
    "        data = json.load(json_file)\n",
    "        \n",
    "    allowed_amounts_list = []\n",
    "\n",
    "    for _dict in data['out_of_network']:\n",
    "        _temp = _dict['allowed_amounts']\n",
    "        for res in _temp:\n",
    "            allowed_amounts_list.append(res['payments']['allowed_amount'])\n",
    "\n",
    "\n",
    "    return round(sum(allowed_amounts_list) / len(allowed_amounts_list),2)\n",
    "    \n",
    "    \n",
    "\n"
   ]
  },
  {
   "cell_type": "code",
   "execution_count": 2,
   "metadata": {},
   "outputs": [],
   "source": [
    "assert(average_rate('/data/negotiated_rates.json') == 38.67)"
   ]
  },
  {
   "cell_type": "code",
   "execution_count": 3,
   "metadata": {},
   "outputs": [
    {
     "data": {
      "text/plain": [
       "38.67"
      ]
     },
     "execution_count": 3,
     "metadata": {},
     "output_type": "execute_result"
    }
   ],
   "source": [
    "average_rate('/data/negotiated_rates.json')"
   ]
  },
  {
   "cell_type": "code",
   "execution_count": 4,
   "metadata": {},
   "outputs": [
    {
     "name": "stdout",
     "output_type": "stream",
     "text": [
      "Finding tests in NoName\n",
      "Trying:\n",
      "    average_rate('/data/negotiated_rates.json')\n",
      "Expecting:\n",
      "    38.67\n",
      "ok\n"
     ]
    }
   ],
   "source": [
    "import doctest\n",
    "doctest.run_docstring_examples(average_rate, globals(), verbose=True)"
   ]
  },
  {
   "cell_type": "markdown",
   "metadata": {},
   "source": [
    "---\n",
    "\n",
    "## Step 2: Rate for a Billing Code / Service Code Combination\n",
    "\n",
    "For the next step, we need to be able to look up the allowed amount for any given billing code / service code combination.\n",
    "\n",
    "In this data, the billing code represents the service or procedure that was provided. The service code represents the type of site where the service was provided.\n",
    "\n",
    "Your function should be named **get_rate()** and take three parameters: the JSON file name, the billing code, and the service code. If your code can't find that combination in the file, it should return None."
   ]
  },
  {
   "cell_type": "code",
   "execution_count": 5,
   "metadata": {},
   "outputs": [],
   "source": [
    "import json\n",
    "\n",
    "def get_rate(file, billing_code, service_code):\n",
    "    \"\"\"(str) -> float\n",
    "    From the above function taken the billing code and service code gives the output rate\n",
    "    >>> get_rate('/data/negotiated_rates.json','G0283','11')\n",
    "    8.78\n",
    "    >>> get_rate('/data/negotiated_rates.json','97110','12')\n",
    "    26.62\n",
    " \n",
    "    \"\"\"\n",
    "    with open(file) as json_file:\n",
    "        data = json.load(json_file)\n",
    "    \n",
    "        \n",
    "    for _dict in data['out_of_network']:\n",
    "        _temp = _dict['allowed_amounts']\n",
    "        for res in _temp:\n",
    "            if res['service_code'] == service_code and _dict['billing_code'] == billing_code:\n",
    "                return res['payments']['allowed_amount']\n",
    "        \n",
    "    return None\n",
    "\n",
    "    "
   ]
  },
  {
   "cell_type": "code",
   "execution_count": 6,
   "metadata": {},
   "outputs": [],
   "source": [
    "assert (get_rate('/data/negotiated_rates.json','G0283','11') == 8.78)\n",
    "assert (get_rate('/data/negotiated_rates.json','97140','11') == 20.03)\n",
    "assert (get_rate('/data/negotiated_rates.json','97110','12') == 26.62)"
   ]
  },
  {
   "cell_type": "code",
   "execution_count": 7,
   "metadata": {},
   "outputs": [
    {
     "data": {
      "text/plain": [
       "8.78"
      ]
     },
     "execution_count": 7,
     "metadata": {},
     "output_type": "execute_result"
    }
   ],
   "source": [
    "get_rate('/data/negotiated_rates.json','G0283','11')"
   ]
  },
  {
   "cell_type": "code",
   "execution_count": 8,
   "metadata": {},
   "outputs": [
    {
     "name": "stdout",
     "output_type": "stream",
     "text": [
      "Finding tests in NoName\n",
      "Trying:\n",
      "    get_rate('/data/negotiated_rates.json','G0283','11')\n",
      "Expecting:\n",
      "    8.78\n",
      "ok\n",
      "Trying:\n",
      "    get_rate('/data/negotiated_rates.json','97110','12')\n",
      "Expecting:\n",
      "    26.62\n",
      "ok\n"
     ]
    }
   ],
   "source": [
    "import doctest\n",
    "doctest.run_docstring_examples(get_rate, globals(), verbose=True)"
   ]
  },
  {
   "cell_type": "markdown",
   "metadata": {},
   "source": [
    "---\n",
    "\n",
    "## Part 3: Special Rules for Rates\n",
    "\n",
    "There are some special rules for adjusting rates depending on a patient's age and the day of week.  (These are made up. Not from the real world.) In the next part of the midterm, you'll need to create a function that applies these extra rules to a rate and return the adjusted value.\n",
    "\n",
    "1. If the day of week is Monday, charge only 75% of the allowed amount.\n",
    "2. If the patient's age is 65 or higher, charge only 50% of the allowed amount.\n",
    "3. If's both Monday and the patient's age is 65 or higher, charge only 50% of the allowed amount.\n",
    "4. If neither of these conditions are true, charge the whole amount.\n",
    "\n",
    "Your function should be named **get_adjusted_rate()** and take five parameters: file name, billing code, service code, patient age, and visit date.  Your function should return the adjusted rate (based on the rules above) or None if the rate couldn't be found in the file.\n",
    "\n",
    "Note that your function will take a date in the form `%Y-%m-%d` ([see datetime.strptime()](https://docs.python.org/3/library/datetime.html#datetime.datetime.strptime)) and will need to calculate the [day of week](https://docs.python.org/3/library/datetime.html#datetime.date.weekday).\n",
    "\n",
    "**ROUND YOUR ANSWER TO 2 DECIMAL PLACES**"
   ]
  },
  {
   "cell_type": "code",
   "execution_count": 9,
   "metadata": {},
   "outputs": [],
   "source": [
    "from datetime import datetime\n",
    "\n",
    "def get_adjusted_rate(file, billing_code, service_code, pat_age, visit_date):\n",
    "    \"\"\"(str) -> float\n",
    "    From the above function taken the billing code, service code,patient age, visit date and according to their dates and age given some \n",
    "    special rates\n",
    "    >>> get_adjusted_rate('/data/negotiated_rates.json','G0283','11',22,'2022-01-07')\n",
    "    8.78\n",
    "    >>> get_adjusted_rate('/data/negotiated_rates.json','G0283','11',76,'2022-01-08')\n",
    "    4.39\n",
    "    \"\"\"\n",
    "    day_of_the_week = datetime.strptime(visit_date, \"%Y-%m-%d\").weekday() # Monday = 0\n",
    "    rate = get_rate('/data/negotiated_rates.json', billing_code, service_code)\n",
    "    if rate:\n",
    "        if day_of_the_week == 0 and pat_age >= 65:\n",
    "            allowed_amount = rate * 0.5\n",
    "        elif day_of_the_week == 0:\n",
    "            allowed_amount = rate * 0.75\n",
    "        elif pat_age >= 65:\n",
    "            allowed_amount = rate * 0.5\n",
    "        else:\n",
    "            allowed_amount = rate\n",
    "        return round(allowed_amount, 2)\n",
    "    else:\n",
    "        return None\n",
    "    \n",
    "    \n",
    "    "
   ]
  },
  {
   "cell_type": "code",
   "execution_count": 10,
   "metadata": {},
   "outputs": [],
   "source": [
    "assert (get_adjusted_rate('/data/negotiated_rates.json','G0283','11',22,'2022-01-07') == 8.78)\n",
    "assert (get_adjusted_rate('/data/negotiated_rates.json','G0283','11',22,'2022-01-03') == 6.58)\n",
    "assert (get_adjusted_rate('/data/negotiated_rates.json','G0283','11',76,'2022-01-03') == 4.39)\n",
    "assert (get_adjusted_rate('/data/negotiated_rates.json','G0283','11',76,'2022-01-08') == 4.39)"
   ]
  },
  {
   "cell_type": "code",
   "execution_count": 11,
   "metadata": {},
   "outputs": [
    {
     "data": {
      "text/plain": [
       "8.78"
      ]
     },
     "execution_count": 11,
     "metadata": {},
     "output_type": "execute_result"
    }
   ],
   "source": [
    "get_adjusted_rate('/data/negotiated_rates.json','G0283','11',22,'2022-01-07')"
   ]
  },
  {
   "cell_type": "code",
   "execution_count": 12,
   "metadata": {},
   "outputs": [
    {
     "name": "stdout",
     "output_type": "stream",
     "text": [
      "Finding tests in NoName\n",
      "Trying:\n",
      "    get_adjusted_rate('/data/negotiated_rates.json','G0283','11',22,'2022-01-07')\n",
      "Expecting:\n",
      "    8.78\n",
      "ok\n",
      "Trying:\n",
      "    get_adjusted_rate('/data/negotiated_rates.json','G0283','11',76,'2022-01-08')\n",
      "Expecting:\n",
      "    4.39\n",
      "ok\n"
     ]
    }
   ],
   "source": [
    "import doctest\n",
    "doctest.run_docstring_examples(get_adjusted_rate, globals(), verbose=True)"
   ]
  },
  {
   "cell_type": "markdown",
   "metadata": {},
   "source": [
    "---\n",
    "\n",
    "## Step 4: Calculate total payments for a list of visits\n",
    "\n",
    "Last step, we're going to put your get_adjusted_rate() function to work on a list of visits from a few hospitals in the St. Louis region.\n",
    "\n",
    "Your last function, **summarize_reimbursement()** needs to read an encounter file and the negotiated rates file, compute an adjusted rate for each encounter (row) in the input file, and return two dictionaries of information:\n",
    "1. Total expected reimbursement by month\n",
    "2. Total expected reimbursement by hospital\n",
    "\n",
    "Your should be able to run your function as `by_month, by_hospital = summarize_reimbursement(visits, negotiated_rates)` and have the two answers below:\n",
    "\n",
    "**by_month**\n",
    "```json\n",
    "{\n",
    "    '2021-05': 192.38,\n",
    "    '2021-03': 378.72,\n",
    "    '2021-07': 277.67,\n",
    "    '2021-06': 236.53,\n",
    "    '2021-11': 229.7,\n",
    "    '2021-10': 234.52,\n",
    "    '2021-12': 297.87,\n",
    "    '2021-04': 337.7,\n",
    "    '2021-09': 160.4,\n",
    "    '2021-01': 111.91,\n",
    "    '2021-02': 158.55,\n",
    "    '2021-08': 152.28\n",
    "}\n",
    "```\n",
    "\n",
    "**by_hospital**\n",
    "```json\n",
    "{\n",
    "    'Missouri Baptist': 514.18,\n",
    "    'SSM DePaul': 460.02,\n",
    "    'SLU Hospital': 409.67,\n",
    "    'Barnes Jewish': 485.7,\n",
    "    'Mercy Springfield': 518.59,\n",
    "    'Mercy St. Louis': 380.07\n",
    "}\n",
    "```\n",
    "\n",
    "**Round your totals to 2 decimal places**\n",
    "\n",
    "**If rates are not found, just ignore them**"
   ]
  },
  {
   "cell_type": "code",
   "execution_count": 13,
   "metadata": {},
   "outputs": [],
   "source": [
    "import json\n",
    "import csv\n",
    "from datetime import datetime\n",
    "from collections import defaultdict\n",
    "\n",
    "def summarize_reimbursement(visits, negotiated_rates):\n",
    "    \"\"\"(str) -> float\n",
    "    From the above function getting the summarizing reimbursements as per visits and negotiated_rates\n",
    "    >>> summarize_reimbursement('/data/visits.csv','/data/negotiated_rates.json')[0]['2021-07']\n",
    "    277.67\n",
    "    >>> summarize_reimbursement('/data/visits.csv','/data/negotiated_rates.json')[1]['Mercy Springfield']\n",
    "    518.59\n",
    "    \n",
    "    \"\"\"\n",
    "    by_month = defaultdict(list)\n",
    "    by_hospital = defaultdict(list)\n",
    "\n",
    "    with open(visits) as csv_file:\n",
    "        data = csv.reader(csv_file)\n",
    "        # Skipping the header\n",
    "        data = list(data)[1:]\n",
    "        for content in data:\n",
    "            month_key = \"-\".join(content[-1].split('-')[:-1])\n",
    "            hospital_key = content[1]\n",
    "            res = get_adjusted_rate(negotiated_rates, billing_code=content[4], service_code=content[5], pat_age=int(content[3]), visit_date=content[6])\n",
    "            if res == None:\n",
    "                res = 0\n",
    "            by_month[month_key].append(res)\n",
    "            by_hospital[hospital_key].append(res)\n",
    "            \n",
    "    for k, v in by_month.items():\n",
    "        by_month[k] = round(sum(v), 2)\n",
    "        \n",
    "    for k, v in by_hospital.items():\n",
    "        by_hospital[k] = round(sum(v), 2)\n",
    "        \n",
    "    return dict(by_month), dict(by_hospital)\n",
    "            \n",
    "            "
   ]
  },
  {
   "cell_type": "code",
   "execution_count": 14,
   "metadata": {},
   "outputs": [
    {
     "data": {
      "text/plain": [
       "({'2021-05': 192.38,\n",
       "  '2021-03': 378.72,\n",
       "  '2021-07': 277.67,\n",
       "  '2021-06': 236.53,\n",
       "  '2021-11': 229.7,\n",
       "  '2021-10': 234.52,\n",
       "  '2021-12': 297.87,\n",
       "  '2021-04': 337.7,\n",
       "  '2021-09': 160.4,\n",
       "  '2021-02': 158.55,\n",
       "  '2021-01': 111.91,\n",
       "  '2021-08': 152.28},\n",
       " {'Missouri Baptist': 514.18,\n",
       "  'SSM DePaul': 460.02,\n",
       "  'SLU Hospital': 409.67,\n",
       "  'Mercy St. Louis': 380.07,\n",
       "  'Barnes Jewish': 485.7,\n",
       "  'Mercy Springfield': 518.59})"
      ]
     },
     "execution_count": 14,
     "metadata": {},
     "output_type": "execute_result"
    }
   ],
   "source": [
    "summarize_reimbursement('/data/visits.csv','/data/negotiated_rates.json')"
   ]
  },
  {
   "cell_type": "code",
   "execution_count": 15,
   "metadata": {},
   "outputs": [],
   "source": [
    "assert (summarize_reimbursement('/data/visits.csv','/data/negotiated_rates.json')[0]['2021-07'] == 277.67)\n",
    "assert (summarize_reimbursement('/data/visits.csv','/data/negotiated_rates.json')[0]['2021-03'] == 378.72)\n",
    "assert (summarize_reimbursement('/data/visits.csv','/data/negotiated_rates.json')[1]['Mercy St. Louis'] == 380.07)\n",
    "assert (summarize_reimbursement('/data/visits.csv','/data/negotiated_rates.json')[1]['Mercy Springfield'] == 518.59)"
   ]
  },
  {
   "cell_type": "code",
   "execution_count": 16,
   "metadata": {},
   "outputs": [
    {
     "data": {
      "text/plain": [
       "277.67"
      ]
     },
     "execution_count": 16,
     "metadata": {},
     "output_type": "execute_result"
    }
   ],
   "source": [
    "summarize_reimbursement('/data/visits.csv','/data/negotiated_rates.json')[0]['2021-07']"
   ]
  },
  {
   "cell_type": "code",
   "execution_count": 17,
   "metadata": {},
   "outputs": [
    {
     "name": "stdout",
     "output_type": "stream",
     "text": [
      "Finding tests in NoName\n",
      "Trying:\n",
      "    summarize_reimbursement('/data/visits.csv','/data/negotiated_rates.json')[0]['2021-07']\n",
      "Expecting:\n",
      "    277.67\n",
      "ok\n",
      "Trying:\n",
      "    summarize_reimbursement('/data/visits.csv','/data/negotiated_rates.json')[1]['Mercy Springfield']\n",
      "Expecting:\n",
      "    518.59\n",
      "ok\n"
     ]
    }
   ],
   "source": [
    "import doctest\n",
    "doctest.run_docstring_examples(summarize_reimbursement, globals(), verbose=True)"
   ]
  },
  {
   "cell_type": "code",
   "execution_count": null,
   "metadata": {},
   "outputs": [],
   "source": []
  }
 ],
 "metadata": {
  "kernelspec": {
   "display_name": "Python 3",
   "language": "python",
   "name": "python3"
  },
  "language_info": {
   "codemirror_mode": {
    "name": "ipython",
    "version": 3
   },
   "file_extension": ".py",
   "mimetype": "text/x-python",
   "name": "python",
   "nbconvert_exporter": "python",
   "pygments_lexer": "ipython3",
   "version": "3.6.7"
  }
 },
 "nbformat": 4,
 "nbformat_minor": 4
}
