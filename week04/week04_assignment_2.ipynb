{
 "cells": [
  {
   "cell_type": "markdown",
   "metadata": {
    "nbgrader": {
     "grade": false,
     "grade_id": "intro",
     "locked": true,
     "schema_version": 1,
     "solution": false
    }
   },
   "source": [
    "# Week 4 Exercises\n",
    "\n",
    "See: _McKinney 3.1_ and [Python Documentation](https://docs.python.org/3/tutorial/datastructures.html) section 5 on data structures.\n",
    "\n",
    "Modules 13 through 15 have all been about different built-in data types that can be used to create larger and more complex data structures.  We learned about tuples, lists, dictionaries, and how to access and process that data in new ways.\n",
    "\n",
    "**At the begining of the semester, all of the workshop programming exercises will be structured a specific way to make it easier to verify for yourself that you're on the right track as well as easier for me to do a first pass on automated grading.  The structure of each question will require you to write a function using Python code. Don't worry that we haven't talked about functions yet. Just edit the code between** `### BEGIN SOLUTION` and `### END SOLUTION` **as shown in the example below.**\n"
   ]
  },
  {
   "cell_type": "markdown",
   "metadata": {},
   "source": [
    "**WHAT I PROVIDE:**\n",
    "```\n",
    "def some_function(parameter1, parameter2):\n",
    "\n",
    "   ### BEGIN SOLUTION\n",
    "   x = -1\n",
    "   ### END SOLUTION\n",
    "   \n",
    "   return x\n",
    "```\n",
    "\n",
    "**WHAT YOU SHOULD DO:** Just change the parameter names (if you feel you need to) and the calculations between `### BEGIN SOLUTION` and `### END SOLUTION`.  This is just a made up example.\n",
    "```\n",
    "def some_function(a, b):\n",
    "\n",
    "   ### BEGIN SOLUTION\n",
    "   temp = a + b\n",
    "   x = temp / a * b\n",
    "   ### END SOLUTION\n",
    "   \n",
    "   return x\n",
    "```\n"
   ]
  },
  {
   "cell_type": "markdown",
   "metadata": {},
   "source": [
    "---\n",
    "---\n",
    "\n",
    "**Below each programming exercise are some tests (`assertions`) that verify your code is working correctly.  If any assertions fail, you know that something isnt' right with your code, but having all assertions pass doesn't necessarily mean your code is perfect, yet. You should also create your own tests to make sure your code is correct.**\n",
    "\n",
    "**For now, please don't change any function names**"
   ]
  },
  {
   "cell_type": "markdown",
   "metadata": {},
   "source": [
    "### 20.1 Create a sorted list of names\n",
    "\n",
    "Take the list of names below (some are first and last, others are first, middle, and last) and produce a final list of full names separated by commas.\n",
    "\n",
    "```\n",
    "sort_names([\n",
    "  ['Paul', 'Boal'],\n",
    "  ['Kermit','the','Frog'],\n",
    "  ['Donald','Duck']])\n",
    "\n",
    "'Paul Boal, Donald Duck, Kermit the Frog'\n",
    "```"
   ]
  },
  {
   "cell_type": "markdown",
   "metadata": {},
   "source": [
    "**Tip:** If you have a list of lists and want to sort it, Python can do that. It will simply sort using the first item in each of the lists inside your list."
   ]
  },
  {
   "cell_type": "code",
   "execution_count": 1,
   "metadata": {},
   "outputs": [],
   "source": [
    "names = [['Paul', 'Boal'],\n",
    "  ['Kermit','Frog'],\n",
    "  ['Donald','Duck']]"
   ]
  },
  {
   "cell_type": "code",
   "execution_count": 23,
   "metadata": {},
   "outputs": [
    {
     "name": "stdout",
     "output_type": "stream",
     "text": [
      "[['Paul', 'Boal']]\n",
      "[['Paul', 'Boal'], ['Donald', 'Duck']]\n",
      "[['Paul', 'Boal'], ['Donald', 'Duck'], ['Daisy', 'Duck']]\n",
      "[['Paul', 'Boal'], ['Donald', 'Duck'], ['Daisy', 'Duck'], ['Ada', 'Boal']]\n",
      "[['Paul', 'Boal'], ['Donald', 'Duck'], ['Daisy', 'Duck'], ['Ada', 'Boal'], ['Teddy', 'Boal']]\n",
      "[['Paul', 'Boal'], ['Donald', 'Duck'], ['Daisy', 'Duck'], ['Ada', 'Boal'], ['Teddy', 'Boal'], ['Eric', 'Westhus']]\n"
     ]
    }
   ],
   "source": [
    "sortable_names = []\n",
    "for name in names:\n",
    "    sortable_names.append([name[1], name[0]])\n",
    "    print(sortable_names)\n",
    "\n",
    "sorted_names = []\n",
    "for name in sorted(sortable_names):\n",
    "    sorted_names.append(name[1] + ' ' + name[0])\n",
    "\n"
   ]
  },
  {
   "cell_type": "code",
   "execution_count": 3,
   "metadata": {},
   "outputs": [
    {
     "data": {
      "text/plain": [
       "['Paul Boal', 'Donald Duck', 'Kermit Frog']"
      ]
     },
     "execution_count": 3,
     "metadata": {},
     "output_type": "execute_result"
    }
   ],
   "source": [
    "sorted_names"
   ]
  },
  {
   "cell_type": "code",
   "execution_count": 4,
   "metadata": {
    "jupyter": {
     "source_hidden": true
    }
   },
   "outputs": [],
   "source": [
    "sorted_names = [b+' '+a for (a,b) in sorted([[b,a] for (a,b) in names])]"
   ]
  },
  {
   "cell_type": "code",
   "execution_count": 5,
   "metadata": {},
   "outputs": [],
   "source": [
    "my_string = \",\".join(sorted_names)"
   ]
  },
  {
   "cell_type": "code",
   "execution_count": 6,
   "metadata": {},
   "outputs": [
    {
     "data": {
      "text/plain": [
       "['Paul Boal', 'Donald Duck', 'Kermit Frog']"
      ]
     },
     "execution_count": 6,
     "metadata": {},
     "output_type": "execute_result"
    }
   ],
   "source": [
    "my_string.split(',')"
   ]
  },
  {
   "cell_type": "code",
   "execution_count": 7,
   "metadata": {},
   "outputs": [],
   "source": [
    "fullnames = [['Yashaswini','Yegurla'],\n",
    "             ['Hariharan','Yadav','Yegurla'],\n",
    "             ['Ashok','Yegurla'],\n",
    "             ['Vijaya','Laxmi','Yegurla']]"
   ]
  },
  {
   "cell_type": "code",
   "execution_count": 8,
   "metadata": {},
   "outputs": [
    {
     "data": {
      "text/plain": [
       "[['Yashaswini', 'Yegurla'],\n",
       " ['Hariharan', 'Yadav', 'Yegurla'],\n",
       " ['Ashok', 'Yegurla'],\n",
       " ['Vijaya', 'Laxmi', 'Yegurla']]"
      ]
     },
     "execution_count": 8,
     "metadata": {},
     "output_type": "execute_result"
    }
   ],
   "source": [
    "fullnames"
   ]
  },
  {
   "cell_type": "code",
   "execution_count": 9,
   "metadata": {},
   "outputs": [
    {
     "name": "stdout",
     "output_type": "stream",
     "text": [
      "['Yashaswini Yegurla']\n",
      "['Hariharan Yadav Yegurla']\n",
      "['Ashok Yegurla']\n",
      "['Vijaya Laxmi Yegurla']\n"
     ]
    }
   ],
   "source": [
    "for x in fullnames:\n",
    "    retList = []\n",
    "    a = \"\"\n",
    "    retList2=[]\n",
    "    if(len(x) == 2):\n",
    "        for s in x: \n",
    "            a = a + \" \" + s\n",
    "        retList.append(a.strip())\n",
    "        print(retList)\n",
    "    \n",
    "    if(len(x) == 3): \n",
    "        for s in range(len(x)):\n",
    "            a = x[0] +\" \"+ x [1] + \" \"+ x[2]\n",
    "        retList2.append(a.strip())\n",
    "        print(retList2)\n",
    "    "
   ]
  },
  {
   "cell_type": "markdown",
   "metadata": {},
   "source": [
    "### 20.2 Convert a dictionary to a list\n",
    "\n",
    "In this exercise, we're going to take a dictionary that has families and their names, and convert that into a list of names.  The dictionary is structured such that the key is the family name, and the value for that key is a list of first names.\n",
    "\n",
    "```\n",
    "{\n",
    "  'Boal': ['Paul', 'Anny', 'Jim'],\n",
    "  'Lester-Boal': ['Ellie', 'Ada', 'Teddy'],\n",
    "  'Lester': ['Sarahlynn', 'Jessica', 'Grace', 'Carolynn']\n",
    "}\n",
    "\n",
    "[['Boal', 'Paul'],\n",
    " ['Boal', 'Anny'],\n",
    " ['Boal', 'Jim'],\n",
    " ['Lester-Boal', 'Elliie'],\n",
    " ['Lester-Boal', 'Ada'],\n",
    " ...\n",
    "```"
   ]
  },
  {
   "cell_type": "code",
   "execution_count": 10,
   "metadata": {},
   "outputs": [],
   "source": [
    "families = {\n",
    "  'Boal': ['Paul', 'Anny', 'Jim'],\n",
    "  'Lester-Boal': ['Ellie', 'Ada', 'Teddy'],\n",
    "  'Lester': ['Sarahlynn', 'Jessica', 'Grace', 'Carolynn']\n",
    "}"
   ]
  },
  {
   "cell_type": "code",
   "execution_count": 11,
   "metadata": {},
   "outputs": [],
   "source": [
    "def dict_to_list(families):\n",
    "\n",
    "    ### BEGIN SOLUTION\n",
    "    output = []\n",
    "    for l_name,family_name in families.items():\n",
    "        for name in family_name:\n",
    "            output.append([l_name,name])\n",
    "    ### END SOLUTION\n",
    "            \n",
    "    return output"
   ]
  },
  {
   "cell_type": "code",
   "execution_count": 12,
   "metadata": {},
   "outputs": [
    {
     "data": {
      "text/plain": [
       "[['Duck', 'Hewey'],\n",
       " ['Duck', 'Dewey'],\n",
       " ['Duck', 'Louie'],\n",
       " ['Mouse', 'Mickey'],\n",
       " ['Mouse', 'Minney']]"
      ]
     },
     "execution_count": 12,
     "metadata": {},
     "output_type": "execute_result"
    }
   ],
   "source": [
    "dict_to_list({'Duck': ['Hewey','Dewey','Louie'], \n",
    "              'Mouse': ['Mickey','Minney']})"
   ]
  },
  {
   "cell_type": "code",
   "execution_count": 13,
   "metadata": {},
   "outputs": [
    {
     "data": {
      "text/plain": [
       "[['Boal', 'Paul'],\n",
       " ['Boal', 'Anny'],\n",
       " ['Boal', 'Jim'],\n",
       " ['Lester-Boal', 'Ellie'],\n",
       " ['Lester-Boal', 'Ada'],\n",
       " ['Lester-Boal', 'Teddy'],\n",
       " ['Lester', 'Sarahlynn'],\n",
       " ['Lester', 'Jessica'],\n",
       " ['Lester', 'Grace'],\n",
       " ['Lester', 'Carolynn']]"
      ]
     },
     "execution_count": 13,
     "metadata": {},
     "output_type": "execute_result"
    }
   ],
   "source": [
    "dict_to_list(families)"
   ]
  },
  {
   "cell_type": "code",
   "execution_count": 14,
   "metadata": {},
   "outputs": [
    {
     "data": {
      "text/plain": [
       "[['Yegurla', 'Ashok'],\n",
       " ['Yegurla', 'Vijaya laxmi'],\n",
       " ['Yegurla', 'Yashaswini'],\n",
       " ['Yegurla', 'Tejaswini'],\n",
       " ['Yegurla', 'Hari Haran']]"
      ]
     },
     "execution_count": 14,
     "metadata": {},
     "output_type": "execute_result"
    }
   ],
   "source": [
    "dict_to_list({'Yegurla': ['Ashok','Vijaya laxmi','Yashaswini','Tejaswini','Hari Haran']})"
   ]
  },
  {
   "cell_type": "markdown",
   "metadata": {
    "nbgrader": {
     "grade": false,
     "grade_id": "average",
     "locked": true,
     "schema_version": 1,
     "solution": false
    }
   },
   "source": [
    "### 20.3 Convert a list to a dictionary\n",
    "\n",
    "Take the list of lists below and convert it into a dictionary where the entries in the dictionary are keyed off of whatever values are in column 0, and the dictionary values are the list of all the values that appear with that key from the input list."
   ]
  },
  {
   "cell_type": "code",
   "execution_count": 15,
   "metadata": {},
   "outputs": [],
   "source": [
    "names = [['Boal', 'Paul'],\n",
    "             ['Duck', 'Donald'],\n",
    "             ['Duck', 'Daisy'],\n",
    "             ['Boal', 'Ada'],\n",
    "             ['Boal', 'Teddy'],\n",
    "             ['Westhus', 'Eric']]\n"
   ]
  },
  {
   "cell_type": "code",
   "execution_count": 16,
   "metadata": {
    "nbgrader": {
     "grade": false,
     "grade_id": "average-answer",
     "locked": false,
     "schema_version": 1,
     "solution": true
    }
   },
   "outputs": [],
   "source": [
    "def list_to_dict(names):\n",
    "   \n",
    "    families={}\n",
    "    for name in names:\n",
    "        first_name=name[0]\n",
    "        last_name=name[1]\n",
    "        \n",
    "        if first_name not in families.keys():\n",
    "            families[first_name]=[]\n",
    "        families[first_name].append(last_name)\n",
    "            \n",
    "\n",
    "    return families\n"
   ]
  },
  {
   "cell_type": "code",
   "execution_count": 17,
   "metadata": {},
   "outputs": [
    {
     "name": "stdout",
     "output_type": "stream",
     "text": [
      "{'Boal': ['Paul', 'Ada', 'Teddy'], 'Duck': ['Donald', 'Daisy'], 'Westhus': ['Eric']}\n"
     ]
    }
   ],
   "source": [
    "print(list_to_dict(names))"
   ]
  },
  {
   "cell_type": "code",
   "execution_count": 18,
   "metadata": {},
   "outputs": [
    {
     "data": {
      "text/plain": [
       "{'Yegurla': ['Ashok', 'Vijaya laxmi', 'Yashaswini', 'Tejaswini', 'Hari Haran']}"
      ]
     },
     "execution_count": 18,
     "metadata": {},
     "output_type": "execute_result"
    }
   ],
   "source": [
    "list_to_dict([['Yegurla', 'Ashok'],\n",
    " ['Yegurla', 'Vijaya laxmi'],\n",
    " ['Yegurla', 'Yashaswini'],\n",
    " ['Yegurla', 'Tejaswini'],\n",
    " ['Yegurla', 'Hari Haran']])"
   ]
  },
  {
   "cell_type": "code",
   "execution_count": 19,
   "metadata": {
    "nbgrader": {
     "grade": true,
     "grade_id": "average-tests",
     "locked": true,
     "points": 5,
     "schema_version": 1,
     "solution": false
    }
   },
   "outputs": [],
   "source": [
    "answer = {\n",
    " 'Boal':    ['Paul', 'Ada', 'Teddy'],\n",
    " 'Duck':    ['Donald', 'Daisy'],\n",
    " 'Westhus': ['Eric']\n",
    "}\n",
    "\n",
    "assert (list_to_dict(names) == answer)"
   ]
  },
  {
   "cell_type": "markdown",
   "metadata": {},
   "source": [
    "### 20.4 Join using a dictionary\n",
    "\n",
    "We have a list of patients, diagnosis, and length of stay.  We also have a dictionary that contains diagnosis and average length of stay.  Produce an output list that lists the patient and an indicator if the patient's stay was 'too long', 'too short', 'just right'"
   ]
  },
  {
   "cell_type": "code",
   "execution_count": 20,
   "metadata": {
    "nbgrader": {
     "grade": false,
     "grade_id": "cell-f3813e33810dc898",
     "locked": false,
     "schema_version": 1,
     "solution": true
    }
   },
   "outputs": [],
   "source": [
    "def patient_los(avg_los, patients):\n",
    "\n",
    "    conclusions = []\n",
    "    \n",
    "    ### BEGIN SOLUTION\n",
    "    for name, diagnose, los in patients:\n",
    "        if (avg_los[diagnose] < los):\n",
    "            conclusions.append([name, 'too long'])\n",
    "        elif (avg_los[diagnose] > los):\n",
    "            conclusions.append([name, 'too short'])\n",
    "        else:\n",
    "            conclusions.append([name, 'just right'])\n",
    "        \n",
    "    ### END SOLUTION\n",
    "    \n",
    "    return conclusions"
   ]
  },
  {
   "cell_type": "code",
   "execution_count": 21,
   "metadata": {},
   "outputs": [
    {
     "data": {
      "text/plain": [
       "[['Boal', 'too short'],\n",
       " ['Boal', 'too long'],\n",
       " ['Jones', 'just right'],\n",
       " ['Ashbury', 'too short']]"
      ]
     },
     "execution_count": 21,
     "metadata": {},
     "output_type": "execute_result"
    }
   ],
   "source": [
    "avg_los = {\n",
    "    \"Hemolytic jaundice and perinatal jaundice\" : 2,\n",
    "    \"Medical examination/evaluation\" : 3.2,\n",
    "    \"Liveborn\" : 3.2,\n",
    "    \"Trauma to perineum and vulva\" : 2.1,\n",
    "    \"Normal pregnancy and/or delivery\" : 2,\n",
    "    \"Umbilical cord complication\" : 2.1,\n",
    "    \"Forceps delivery\" : 2.2,\n",
    "    \"Administrative/social admission\" : 4.2,\n",
    "    \"Prolonged pregnancy\" : 2.4,\n",
    "    \"Other complications of pregnancy\" : 2.5\n",
    "}\n",
    "\n",
    "patients = [\n",
    "    ['Boal', 'Medical examination/evaluation', 1.1],\n",
    "    ['Boal', 'Other complications of pregnancy', 3.3],\n",
    "    ['Jones', 'Liveborn', 3.2],\n",
    "    ['Ashbury', 'Forceps delivery', 2.0]\n",
    "]\n",
    "\n",
    "patient_los(avg_los, patients)"
   ]
  },
  {
   "cell_type": "code",
   "execution_count": 22,
   "metadata": {},
   "outputs": [],
   "source": [
    "conclusions=[['Boal', 'too short'],\n",
    "['Boal', 'too long'],\n",
    "['Jones', 'just right'],\n",
    "['Ashbury', 'too short']]\n",
    "assert(patient_los(avg_los, patients) == conclusions)"
   ]
  },
  {
   "cell_type": "markdown",
   "metadata": {},
   "source": [
    "---\n",
    "\n",
    "## Check your work above\n",
    "\n",
    "If you didn't get them all correct, take a few minutes to think through those that aren't correct.\n",
    "\n",
    "\n",
    "## Submitting Your Work\n",
    "\n",
    "In order to submit your work, you'll need to use the `git` command line program to **add** your homework file (this file) to your local repository, **commit** your changes to your local repository, and then **push** those changes up to github.com.  From there, I'll be able to **pull** the changes down and do my grading.  I'll provide some feedback, **commit** and **push** my comments back to you.  Next week, I'll show you how to **pull** down my comments.\n",
    "\n",
    "First run through everything one last time and submit your work:\n",
    "1. Use the `Kernel` -> `Restart Kernel and Run All Cells` menu option to run everything from top to bottom and stop here.\n",
    "2. Then open a new command line by clicking the `+` icon above the file list and chosing `Terminal`\n",
    "3. At the command line in the new Terminal, follow these steps:\n",
    "  1. Change directories to your project folder and the week03 subfolder (`cd <folder name>`)\n",
    "  2. Make sure your project folders are up to date with github.com (`git pull`)\n",
    "  3. Add the homework files for this week (`git add <file name>`)\n",
    "  4. Commit your changes (`git commit -a -m \"message\"`)\n",
    "  5. Push your changes (`git push`)\n",
    "  \n",
    "If anything fails along the way with this submission part of the process, let me know.  I'll help you troubleshoort."
   ]
  },
  {
   "cell_type": "code",
   "execution_count": null,
   "metadata": {},
   "outputs": [],
   "source": []
  },
  {
   "cell_type": "code",
   "execution_count": null,
   "metadata": {},
   "outputs": [],
   "source": []
  }
 ],
 "metadata": {
  "celltoolbar": "Create Assignment",
  "kernelspec": {
   "display_name": "Python 3",
   "language": "python",
   "name": "python3"
  },
  "language_info": {
   "codemirror_mode": {
    "name": "ipython",
    "version": 3
   },
   "file_extension": ".py",
   "mimetype": "text/x-python",
   "name": "python",
   "nbconvert_exporter": "python",
   "pygments_lexer": "ipython3",
   "version": "3.6.7"
  }
 },
 "nbformat": 4,
 "nbformat_minor": 2
}
