{
 "cells": [
  {
   "cell_type": "markdown",
   "metadata": {
    "nbgrader": {
     "grade": false,
     "grade_id": "intro",
     "locked": true,
     "schema_version": 1,
     "solution": false
    }
   },
   "source": [
    "# Week 4 Exercises\n",
    "\n",
    "_modules 13-15_\n",
    "\n",
    "_See also [documentation on standard data types](https://docs.python.org/3/library/stdtypes.html)_\n",
    "\n",
    "Modules 13 through 15 have all been about different built-in data types that can be used to create larger and more complex data structures.  We learned about tuples, lists, dictionaries, and how to access and process that data in new ways.\n",
    "\n",
    "\n",
    "\n",
    "Do not change anything else or add any other code to this notebook. If you need to do scratch work to determine an answer, create a new notebook and do your work there.\n",
    "\n",
    "---\n",
    "---"
   ]
  },
  {
   "cell_type": "markdown",
   "metadata": {},
   "source": [
    "### 13.1 Which of the following statements are true?\n",
    "\n",
    "Placeholders for two answers are provided, but there may be more correction options.\n",
    "> A) The elements in both Tuples and Lists have a specific order \n",
    ">\n",
    "> B) Tuples and Lists can both be nested\n",
    ">\n",
    "> C) A Tuple can be concatenated to another Tuple using the `+` operator\n",
    ">\n",
    "> D) Tuples and Lists can both have items appended to their ends\n",
    "\n"
   ]
  },
  {
   "cell_type": "code",
   "execution_count": 1,
   "metadata": {},
   "outputs": [],
   "source": [
    "answers = {}\n",
    "answers[\"13.1\"] = [\"A\",\"B\",\"C\"]"
   ]
  },
  {
   "cell_type": "markdown",
   "metadata": {},
   "source": [
    "### 13.2 What does this code output?\n",
    "\n",
    "```python\n",
    "(a, b) = ('First', 'Second')\n",
    "(b, a) = (a, b)\n",
    "print(b)\n",
    "```\n",
    "\n",
    "> A) `First`\n",
    ">\n",
    "> B) `Second`\n",
    ">\n",
    "> C) `('First', 'Second')`\n",
    ">\n",
    "> D) _nothing_"
   ]
  },
  {
   "cell_type": "code",
   "execution_count": 2,
   "metadata": {},
   "outputs": [],
   "source": [
    "answers[\"13.2\"] = \"A\""
   ]
  },
  {
   "cell_type": "markdown",
   "metadata": {},
   "source": [
    "### 13.3 What is the output of the following code?\n",
    "\n",
    "```python\n",
    "(a, b) = (['Paul','Alex','Linda','Kathy','Amit','Samira'], [41, 38, 30, 43, 41, 40, 34, 52])\n",
    "len(b)\n",
    "```\n",
    "\n",
    "> A) _Error_\n",
    ">\n",
    "> B) `6`\n",
    ">\n",
    "> C) `8`\n",
    ">\n",
    "> D) _None_"
   ]
  },
  {
   "cell_type": "code",
   "execution_count": 3,
   "metadata": {},
   "outputs": [],
   "source": [
    "answers[\"13.3\"] = \"C\""
   ]
  },
  {
   "cell_type": "markdown",
   "metadata": {},
   "source": [
    "### 13.4 What is the output of the following code?\n",
    "\n",
    "```python\n",
    "(a, b) = (['Paul','Alex','Linda','Kathy','Amit','Samira'], [41, 38, 30, 43, 41, 40, 34, 52])\n",
    "len(a[5])\n",
    "```\n",
    "\n",
    "> A) `4`\n",
    ">\n",
    "> B) `5`\n",
    ">\n",
    "> C) `6`\n",
    ">\n",
    "> D) _None_"
   ]
  },
  {
   "cell_type": "code",
   "execution_count": 4,
   "metadata": {},
   "outputs": [],
   "source": [
    "answers[\"13.4\"] = \"C\""
   ]
  },
  {
   "cell_type": "markdown",
   "metadata": {},
   "source": [
    "### 13.5 What is the output from the code below?\n",
    "\n",
    "```python\n",
    "dxs = [['COPD','CHF','MI'],['DVT','DBS'],['GI','CNC']]\n",
    "len(dxs[1])\n",
    "```\n",
    "\n",
    "> A) _Error_\n",
    ">\n",
    "> B) `3`\n",
    ">\n",
    "> C) `2`\n",
    ">\n",
    "> D) _None_"
   ]
  },
  {
   "cell_type": "code",
   "execution_count": 5,
   "metadata": {},
   "outputs": [],
   "source": [
    "answers[\"13.5\"] = \"C\""
   ]
  },
  {
   "cell_type": "markdown",
   "metadata": {},
   "source": [
    "### 13.6 What will the resulting value of `vals` be?\n",
    "\n",
    "```python\n",
    "vals = [3.14, 1.41]\n",
    "vals.append([2.72])\n",
    "vals = vals + ['i']\n",
    "```\n",
    "\n",
    "> A) `[3.14, 1.41, 2.72, ['i']]`\n",
    ">\n",
    "> B) `[3.14, 1.41, [2.72], 'i']`\n",
    ">\n",
    "> C) `[3.14, 1.41, [2.72], ['i']]`\n",
    ">\n",
    "> D) `[3.14, 1.41, [2.72, 'i']`"
   ]
  },
  {
   "cell_type": "code",
   "execution_count": 6,
   "metadata": {},
   "outputs": [],
   "source": [
    "answers[\"13.6\"] = \"B\""
   ]
  },
  {
   "cell_type": "markdown",
   "metadata": {},
   "source": [
    "### 13.7 Which of the following statements are correct?\n",
    "\n",
    "Placeholders for two options are provided, but there may be more correct answers.\n",
    "> A) Lists can have other lists inside them\n",
    ">\n",
    "> B) When you create a list, you must specify how big it will be\n",
    ">\n",
    "> C) The items in a list do not have a specific order\n",
    ">\n",
    "> D) list.sort() will sort the list in place without creating a copy"
   ]
  },
  {
   "cell_type": "code",
   "execution_count": 7,
   "metadata": {},
   "outputs": [],
   "source": [
    "answers[\"13.7\"] = [\"A\",\"D\"]"
   ]
  },
  {
   "cell_type": "markdown",
   "metadata": {},
   "source": [
    "### 14.1 When you retrieve items from a dictionary in a **for** loop, in what order are they processed?\n",
    "\n",
    "> A) An arbitary order that is the same each time as long as the dictionary doesn't change\n",
    ">\n",
    "> B) Always in ascending order\n",
    ">\n",
    "> C) Always in descending order\n",
    ">\n",
    "> D) A different order that is completely random each time"
   ]
  },
  {
   "cell_type": "code",
   "execution_count": 8,
   "metadata": {},
   "outputs": [],
   "source": [
    "answers[\"14.1\"] = \"A\""
   ]
  },
  {
   "cell_type": "markdown",
   "metadata": {},
   "source": [
    "### 14.2 What data types can be used for dictionary *keys*?\n",
    "\n",
    "Two placeholders are provided, but more answers may be correct and should be included.\n",
    "> A) Strings\n",
    ">\n",
    "> B) Integers\n",
    ">\n",
    "> C) Floats\n",
    ">\n",
    "> D) Typles"
   ]
  },
  {
   "cell_type": "code",
   "execution_count": 9,
   "metadata": {},
   "outputs": [],
   "source": [
    "answers[\"14.2\"] = [\"A\",\"B\",\"C\",\"D\"]"
   ]
  },
  {
   "cell_type": "markdown",
   "metadata": {},
   "source": [
    "### 14.3 Which of the following statements are correct?\n",
    "\n",
    "Two placeholders are provided, but more answers may be correct and should be included.\n",
    "> A) Dictionaries can contain lists\n",
    ">\n",
    "> B) Lists can contain dictionaries\n",
    ">\n",
    "> C) All dictionary keys must be strings\n",
    ">\n",
    "> D) Dictionaries can contain multiple entries for the same key"
   ]
  },
  {
   "cell_type": "code",
   "execution_count": 10,
   "metadata": {},
   "outputs": [],
   "source": [
    "answers[\"14.3\"] = [\"A\",\"B\"]"
   ]
  },
  {
   "cell_type": "markdown",
   "metadata": {},
   "source": [
    "### 14.4 When you enter your answers for this homework, what is the data type of the `answers` variable?\n",
    "\n",
    "> A) String\n",
    ">\n",
    "> B) Dictionary\n",
    ">\n",
    "> C) List\n",
    ">\n",
    "> D) Tuple\n"
   ]
  },
  {
   "cell_type": "code",
   "execution_count": 11,
   "metadata": {},
   "outputs": [],
   "source": [
    "answers[\"14.4\"] = \"B\""
   ]
  },
  {
   "cell_type": "markdown",
   "metadata": {},
   "source": [
    "---\n",
    "\n",
    "Checking Your Work\n",
    "---\n",
    "\n",
    "After completing your work above and running each cell, you can check your answers by running the code below. \n",
    "\n",
    "The easiest way to do this is to use the `Kernel` -> `Restart Kernel and Run All Cells` menu option. This option restarts Python and runs every cell from top to bottom until it encounters an exception of some kind.  It will stop after running the cell below and outputing a summary of how many answers you have correct or incorrect.\n"
   ]
  },
  {
   "cell_type": "code",
   "execution_count": 12,
   "metadata": {
    "jupyter": {
     "source_hidden": true
    }
   },
   "outputs": [
    {
     "name": "stdout",
     "output_type": "stream",
     "text": [
      "   Q#               Yours  Correct?\n",
      " 13.1     ['A', 'B', 'C']        OK\n",
      " 13.2                   A        OK\n",
      " 13.3                   C        OK\n",
      " 13.4                   C        OK\n",
      " 13.5                   C        OK\n",
      " 13.6                   B        OK\n",
      " 13.7          ['A', 'D']        OK\n",
      " 14.1                   A        OK\n",
      " 14.2['A', 'B', 'C', 'D']        OK\n",
      " 14.3          ['A', 'B']        OK\n",
      " 14.4                   B        OK\n"
     ]
    }
   ],
   "source": [
    "import getpass\n",
    "import boto3\n",
    "import json\n",
    "\n",
    "test = {\n",
    "    \"user\": getpass.getuser(),\n",
    "    \"week\": \"week04\",\n",
    "    \"answers\": answers\n",
    "}\n",
    "\n",
    "client = boto3.client('lambda')\n",
    "\n",
    "response = client.invoke(\n",
    "    FunctionName=\"hds5210\",\n",
    "    InvocationType=\"RequestResponse\",\n",
    "    Payload=json.dumps(test))\n",
    "\n",
    "result = json.loads(response['Payload'].read().decode('utf-8'))\n",
    "\n",
    "print('{0:>5}{1:>20}{2:>10}'.format('Q#','Yours','Correct?'))\n",
    "for row in result.get('results'):\n",
    "    print('{0:>5}{1:>20}{2:>10}'.format(str(row[0]),str(row[1]),str(row[2])))\n"
   ]
  },
  {
   "cell_type": "markdown",
   "metadata": {},
   "source": [
    "---\n",
    "\n",
    "## Check your work above\n",
    "\n",
    "If you didn't get them all correct, take a few minutes to think through those that aren't correct.\n",
    "\n",
    "\n",
    "## Submitting Your Work\n",
    "\n",
    "In order to submit your work, you'll need to use the `git` command line program to **add** your homework file (this file) to your local repository, **commit** your changes to your local repository, and then **push** those changes up to github.com.  From there, I'll be able to **pull** the changes down and do my grading.  I'll provide some feedback, **commit** and **push** my comments back to you.  Next week, I'll show you how to **pull** down my comments.\n",
    "\n",
    "First run through everything one last time and submit your work:\n",
    "1. Use the `Kernel` -> `Restart Kernel and Run All Cells` menu option to run everything from top to bottom and stop here.\n",
    "2. Then open a new command line by clicking the `+` icon above the file list and chosing `Terminal`\n",
    "3. At the command line in the new Terminal, follow these steps:\n",
    "  1. Change directories to your project folder and the week03 subfolder (`cd <folder name>`)\n",
    "  2. Make sure your project folders are up to date with github.com (`git pull`)\n",
    "  3. Add the homework files for this week (`git add <file name>`)\n",
    "  4. Commit your changes (`git commit -a -m \"message\"`)\n",
    "  5. Push your changes (`git push`)\n",
    "  \n",
    "If anything fails along the way with this submission part of the process, let me know.  I'll help you troubleshoort."
   ]
  },
  {
   "cell_type": "markdown",
   "metadata": {},
   "source": [
    "\n",
    "---\n",
    "\n",
    "If the message above says something like _Submitting the week 3 review exercises_ or _Everything is up to date_, then your work was submitted correctly."
   ]
  }
 ],
 "metadata": {
  "celltoolbar": "Create Assignment",
  "kernelspec": {
   "display_name": "Python 3",
   "language": "python",
   "name": "python3"
  },
  "language_info": {
   "codemirror_mode": {
    "name": "ipython",
    "version": 3
   },
   "file_extension": ".py",
   "mimetype": "text/x-python",
   "name": "python",
   "nbconvert_exporter": "python",
   "pygments_lexer": "ipython3",
   "version": "3.6.7"
  }
 },
 "nbformat": 4,
 "nbformat_minor": 2
}
