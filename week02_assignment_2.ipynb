{
 "cells": [
  {
   "cell_type": "markdown",
   "metadata": {
    "nbgrader": {
     "grade": false,
     "grade_id": "intro",
     "locked": true,
     "schema_version": 1,
     "solution": false
    }
   },
   "source": [
    "# Week 2 Programming Exercises\n",
    "\n",
    "See: _McKinney 2.3_ and [Python Documentation](https://docs.python.org/3/tutorial/introduction.html) section 3.1.1 on using Python as a calculator.\n",
    "\n",
    "**At the begining of the semester, all of the workshop programming exercises will be structured a specific way to make it easier to verify for yourself that you're on the right track as well as easier for me to do a first pass on automated grading.  The structure of each question will require you to write a function using Python code. Don't worry that we haven't talked about functions yet. Just edit the code between** `### BEGIN SOLUTION` and `### END SOLUTION` **as shown in the example below.**\n"
   ]
  },
  {
   "cell_type": "markdown",
   "metadata": {},
   "source": [
    "**WHAT I PROVIDE:**\n",
    "```\n",
    "def some_function(parameter1, parameter2):\n",
    "\n",
    "   ### BEGIN SOLUTION\n",
    "   x = -1\n",
    "   ### END SOLUTION\n",
    "   \n",
    "   return x\n",
    "```\n",
    "\n",
    "**WHAT YOU SHOULD DO:** Just change the parameter names (if you feel you need to) and the calculations between `### BEGIN SOLUTION` and `### END SOLUTION`.  This is just a made up example.\n",
    "```\n",
    "def some_function(a, b):\n",
    "\n",
    "   ### BEGIN SOLUTION\n",
    "   temp = a + b\n",
    "   x = temp / a * b\n",
    "   ### END SOLUTION\n",
    "   \n",
    "   return x\n",
    "```\n"
   ]
  },
  {
   "cell_type": "markdown",
   "metadata": {},
   "source": [
    "---\n",
    "---\n",
    "\n",
    "**Below each programming exercise are some tests (`assertions`) that verify your code is working correctly.  If any assertions fail, you know that something isnt' right with your code, but having all assertions pass doesn't necessarily mean your code is perfect, yet. You should also create your own tests to make sure your code is correct.**\n",
    "\n",
    "**For now, please don't change any function names**"
   ]
  },
  {
   "cell_type": "markdown",
   "metadata": {
    "nbgrader": {
     "grade": false,
     "grade_id": "bmi",
     "locked": true,
     "schema_version": 1,
     "solution": false
    }
   },
   "source": [
    "### 5.1 BMI Calculation\n",
    "\n",
    "Create new names for the variables that you need in the code framework below and use the variables to compute the corresponding body mass index (BMI). You can use any meaningful variable names you like. When you compute the BMI, assign a variable to it, and then print the result to the notebook's output.\n",
    "\n",
    "* Weght in kilograms is 90.7\n",
    "* Height in meters in 1.82\n",
    "\n",
    "Note that a simple BMI calculation is weight in kilograms divided by the square of height in meters.\n",
    "\n",
    "$ bmi = \\frac{weight\\,\\mathrm{kg}}{(height\\,\\mathrm{m})^2} $\n",
    "\n",
    "For this problem, you'll be graded both on proper calculation as well as on programming style and appropriate variables names.\n",
    "\n",
    "_Also note that BMI should not be considered a universal measure of health or fitness. A health BMI can vary greatly depending on many other fitness conditions and body types._"
   ]
  },
  {
   "cell_type": "code",
   "execution_count": 1,
   "metadata": {
    "nbgrader": {
     "grade": false,
     "grade_id": "bmi-answer",
     "locked": false,
     "schema_version": 1,
     "solution": true
    }
   },
   "outputs": [],
   "source": [
    "def BMI(wt_kg,ht_m):\n",
    "    \n",
    "    # 1. Change the names of parameter1 and parameter2 to be something more meaningful\n",
    "    # 2. Change the name of the return variable below\n",
    "    \n",
    "    ### BEGIN SOLUTION\n",
    "    BMI=wt_kg/(ht_m**2)\n",
    "    ### END SOLUTION\n",
    "    return BMI"
   ]
  },
  {
   "cell_type": "code",
   "execution_count": 2,
   "metadata": {
    "nbgrader": {
     "grade": true,
     "grade_id": "bmi-test",
     "locked": true,
     "points": 0,
     "schema_version": 1,
     "solution": false
    }
   },
   "outputs": [],
   "source": [
    "assert round(BMI(90.7, 1.82), 2) == 27.38\n",
    "assert round(BMI(91, 1.80), 2) == 28.09\n",
    "assert round(BMI(70, 1.70), 2) == 24.22"
   ]
  },
  {
   "cell_type": "code",
   "execution_count": null,
   "metadata": {},
   "outputs": [],
   "source": []
  },
  {
   "cell_type": "markdown",
   "metadata": {},
   "source": [
    "### 5.2 Weight from BMI\n",
    "\n",
    "For the next operation, we're going to calculate Weight in kilograms, given someone's BMI and their height in meters.\n",
    "\n",
    "This calculation will be:  $ weight\\,\\mathrm{kg} = {bmi}\\times{(height\\,\\mathrm{m})^2} $"
   ]
  },
  {
   "cell_type": "code",
   "execution_count": 3,
   "metadata": {},
   "outputs": [],
   "source": [
    "def wt_kg(BMI, ht_m):\n",
    "        \n",
    "    ### BEGIN SOLUTION\n",
    "    wt_kg=BMI*(ht_m**2)\n",
    "    ### END SOLUTION\n",
    "    \n",
    "    return wt_kg"
   ]
  },
  {
   "cell_type": "code",
   "execution_count": 4,
   "metadata": {},
   "outputs": [],
   "source": [
    "assert round(wt_kg(27.38, 1.82),2) == 90.69\n",
    "assert round(wt_kg(28.09, 1.80),2) == 91.01\n",
    "assert round(wt_kg(24.22, 1.70),2) == 70.00"
   ]
  },
  {
   "cell_type": "code",
   "execution_count": null,
   "metadata": {},
   "outputs": [],
   "source": []
  },
  {
   "cell_type": "markdown",
   "metadata": {},
   "source": [
    "### 5.3 Height from BMI\n",
    "\n",
    "\n",
    "For the next operation, we're going to calculate height in meters, given someone's BMI and their weight in kilograms.\n",
    "\n",
    "This calculation will be:  $ {height\\,\\mathrm{m}} = \\sqrt{\\frac{weight\\,\\mathrm{kg}}{bmi}} $\n",
    "\n",
    "For this equation, you'll notice that we need to calculate a square root.  Python has a function for this of course, `sqrt`, but that function is not part of the base Python language. Some Python features have to be imported.  The first line of code below imports the `sqrt` function from the [math](https://docs.python.org/3/library/math.html) library.\n"
   ]
  },
  {
   "cell_type": "code",
   "execution_count": 5,
   "metadata": {},
   "outputs": [],
   "source": [
    "from math import sqrt\n",
    "def ht_m(BMI, wt_kg):\n",
    "    \n",
    "    ### BEGIN SOLUTION\n",
    "    ht_m=sqrt(wt_kg/BMI)\n",
    "    ### END SOLUTION\n",
    "    \n",
    "    return ht_m"
   ]
  },
  {
   "cell_type": "code",
   "execution_count": 6,
   "metadata": {},
   "outputs": [],
   "source": [
    "assert round(ht_m(27.38, 90.69),2) == 1.82\n",
    "assert round(ht_m(28.09, 91.01),2) == 1.80\n",
    "assert round(ht_m(24.22, 70.00),2) == 1.70"
   ]
  },
  {
   "cell_type": "code",
   "execution_count": null,
   "metadata": {},
   "outputs": [],
   "source": []
  },
  {
   "cell_type": "markdown",
   "metadata": {},
   "source": [
    "### 5.4 BMI using Feet, Inches, and Pounds\n",
    "\n",
    "Now, let's try to to create a function that knows how to first convert between imperial units (US inches and pounds) and SI units before calculating the bmi.  For these calculations use:\n",
    "\n",
    "* $ 1\\,\\mathrm{inch} = 2.54\\,\\mathrm{cm} $\n",
    "* $ 1\\,\\mathrm{lb} = 0.54\\,\\mathrm{kg} $\n"
   ]
  },
  {
   "cell_type": "code",
   "execution_count": 7,
   "metadata": {},
   "outputs": [],
   "source": [
    "def BMI_US(wt_lb, ht_ft, ht_in):\n",
    "    \n",
    "    ### BEGIN SOLUTION\n",
    "    wt_kg = wt_lb * 0.54\n",
    "    ht_m = ((ht_ft * 12) + ht_in) * 2.54 / 100\n",
    "    BMI_US = wt_kg / (ht_m**2)\n",
    "    ### END SOLUTION\n",
    "    \n",
    "    return BMI_US"
   ]
  },
  {
   "cell_type": "code",
   "execution_count": 8,
   "metadata": {},
   "outputs": [],
   "source": [
    "assert round(BMI_US(250,6,4),2) == 36.23\n",
    "assert round(BMI_US(120,5,0),2) == 27.90\n",
    "assert round(BMI_US(130,5,10),2) == 22.21"
   ]
  },
  {
   "cell_type": "code",
   "execution_count": null,
   "metadata": {},
   "outputs": [],
   "source": []
  },
  {
   "cell_type": "markdown",
   "metadata": {
    "nbgrader": {
     "grade": false,
     "grade_id": "weight",
     "locked": true,
     "schema_version": 1,
     "solution": false
    }
   },
   "source": [
    "### 5.5 Target BMI\n",
    "Assuming that someone doesn't change height over time, what is the approximate number of days it will take for someone to get from the BMI you found in #3 above to a BMI of 24.9 (typically regarded as being in a healthy range) while losing weight at a rate of 0.75 kg per week.\n",
    "\n",
    "As needed, use variables and multiple calculation steps to make your thought process visible in the code. For instance, rather than using the notebook as a calculator, use variables for intermediate answers.\n",
    "\n",
    "Again, you will receive points both for correct answers as well as for style.\n",
    "\n",
    "In addition to the bmi, height, and weight equations we already defined above, here is some of the algebra to help you along:\n",
    "\n",
    "$ height\\,\\mathrm{m} = \\frac{height\\,\\mathrm{cm}}{100} $\n",
    "\n",
    "$ days = {weeks} x {7} $\n",
    "\n",
    "$ weeks\\,required\\,to\\,change\\,weight = \\frac{current\\,weight - target\\,weight}{weight\\,change\\,per\\,week} $"
   ]
  },
  {
   "cell_type": "code",
   "execution_count": 9,
   "metadata": {
    "nbgrader": {
     "grade": false,
     "grade_id": "weight-answer",
     "locked": false,
     "schema_version": 1,
     "solution": true
    }
   },
   "outputs": [],
   "source": [
    "def lose_weight(weight, height, kg_per_week, target_bmi):\n",
    "    \n",
    "    # Note that the variables you need area already named for you:\n",
    "    # height is the height in cm\n",
    "    # weight is the weight in kg\n",
    "    # kg_per_week is how much the person wants to lose per week\n",
    "    # target_bmi is the intended target bmi\n",
    "    \n",
    "    ### BEGIN SOLUTION\n",
    "    target_weight=target_bmi*(height/100)**2\n",
    "    lose_weight=weight-target_weight\n",
    "    weeks=lose_weight/kg_per_week\n",
    "    days = weeks*7\n",
    "    ### END SOLUTION\n",
    "    \n",
    "    return days"
   ]
  },
  {
   "cell_type": "markdown",
   "metadata": {},
   "source": [
    "Test your code below.  It should return approximately 76.73 days for the given parameters above."
   ]
  },
  {
   "cell_type": "code",
   "execution_count": 10,
   "metadata": {},
   "outputs": [],
   "source": [
    "assert round(lose_weight(90.7, 182, 0.75, 24.9),2) == 76.73\n",
    "assert round(lose_weight(91, 180, 0.75, 24.9),2) == 96.36\n",
    "assert round(lose_weight(70, 170, 0.75, 22),2) == 59.92\n",
    "assert round(lose_weight(70, 170, 2, 22),2) == 22.47"
   ]
  },
  {
   "cell_type": "code",
   "execution_count": 11,
   "metadata": {},
   "outputs": [
    {
     "data": {
      "text/plain": [
       "76.73157333333342"
      ]
     },
     "execution_count": 11,
     "metadata": {},
     "output_type": "execute_result"
    }
   ],
   "source": [
    "lose_weight(90.7,182, 0.75, 24.9)"
   ]
  },
  {
   "cell_type": "markdown",
   "metadata": {},
   "source": [
    "---\n",
    "\n",
    "### 5.6 Your choice\n",
    "\n",
    "Every one of us has done projects where some kind of simple mathematical calculators are required.  Think about something recent from your field of expertise or an area of interest. Choose something that you find interesting and write the Python code required to do that calculation.  These examples show the level of complexity you need to have (not very complex).\n",
    "\n",
    "* $ bmr_{male} = 66 + (13.7 \\times weight\\,\\mathrm{kg}) + (5 \\times height\\,\\mathrm{m}) - (6.8 \\times age\\,\\mathrm{yr}) $\n",
    "\n",
    "* $ bmr_{female} = 655 + (9.6 \\times weight\\,\\mathrm{kg}) + (1.8 \\times height\\,\\mathrm{cm}) - (4.7 \\times age\\,\\mathrm{yr}) $\n",
    "\n",
    "* $ Batting\\,Average = \\frac{Total\\,Hits}{Total\\,at\\,Bats} $\n",
    "\n",
    "* $ Area\\,of\\,circle = \\pi r^2 $\n",
    "\n",
    "* $ F = \\frac{1}{2} m v^2 $\n",
    "\n",
    "Then provide the code for how you would use variables and example values to do the calculation.  You do not to wrap this in a Python function. Just include the code and variables as I've shown below with the BMI calculation that we've been using. As the last command in the cell, print out the value of your calculation as shown in my example.\n"
   ]
  },
  {
   "cell_type": "code",
   "execution_count": 12,
   "metadata": {},
   "outputs": [
    {
     "name": "stdout",
     "output_type": "stream",
     "text": [
      "30.48315805517451\n"
     ]
    }
   ],
   "source": [
    "# THIS IS AN EXAMPLE, PUT YOUR RESPONSE IN THE NEXT CELL DOWN\n",
    "\n",
    "height = 162\n",
    "weight = 80\n",
    "bmi = weight / ((height/100)**2)\n",
    "\n",
    "print(bmi)"
   ]
  },
  {
   "cell_type": "code",
   "execution_count": 13,
   "metadata": {},
   "outputs": [
    {
     "name": "stdout",
     "output_type": "stream",
     "text": [
      "0.18181818181818182\n"
     ]
    }
   ],
   "source": [
    "# PUT YOUR RESPONSE HERE\n",
    "\n",
    "Alcohol_gm=60\n",
    "bodywt_gm=60000\n",
    "R=0.55\n",
    "BAC=(Alcohol_gm/(bodywt_gm*R))*100\n",
    "print(BAC)\n",
    "\n",
    "\n",
    "\n"
   ]
  },
  {
   "cell_type": "markdown",
   "metadata": {},
   "source": [
    "---\n",
    "\n",
    "## Check your work above\n",
    "\n",
    "If you didn't get them all correct, take a few minutes to think through those that aren't correct.\n",
    "\n",
    "\n",
    "## Submitting Your Work\n",
    "\n",
    "In order to submit your work, you'll need to use the `git` command line program to **add** your homework file (this file) to your local repository, **commit** your changes to your local repository, and then **push** those changes up to github.com.  From there, I'll be able to **pull** the changes down and do my grading.  I'll provide some feedback, **commit** and **push** my comments back to you.  Next week, I'll show you how to **pull** down my comments.\n",
    "\n",
    "First run through everything one last time and submit your work:\n",
    "1. Use the `Kernel` -> `Restart Kernel and Run All Cells` menu option to run everything from top to bottom and stop here.\n",
    "2. Then open a new command line by clicking the `+` icon above the file list and chosing `Terminal`\n",
    "3. At the command line in the new Terminal, follow these steps:\n",
    "  1. Change directories to your project folder and the week02 subfolder (`cd <folder name>`)\n",
    "  2. Make sure your project folders are up to date with github.com (`git pull`)\n",
    "  3. Add the homework files for this week (`git add <file name>`)\n",
    "  4. Commit your changes (`git commit -m \"message\"`)\n",
    "  5. Push your changes (`git push`)\n",
    "  \n",
    "**Here's a full examle**\n",
    "```\n",
    "cd hds5210-2022/week02\n",
    "git pull\n",
    "git add week02_assignment_1.ipynb week02_assignment_2.ipynb\n",
    "git commit -m \"Submitting homework assignments for week 2\"\n",
    "git push\n",
    "```\n",
    "\n",
    "If anything fails along the way with this submission part of the process, let me know.  I'll help you troubleshoort."
   ]
  },
  {
   "cell_type": "markdown",
   "metadata": {},
   "source": [
    "\n",
    "---\n",
    "\n",
    "If the message above says something like _Submitting the week 2 programming assignment_ or _Everything is up to date_, then your work was submitted correctly."
   ]
  }
 ],
 "metadata": {
  "celltoolbar": "Create Assignment",
  "kernelspec": {
   "display_name": "Python 3",
   "language": "python",
   "name": "python3"
  },
  "language_info": {
   "codemirror_mode": {
    "name": "ipython",
    "version": 3
   },
   "file_extension": ".py",
   "mimetype": "text/x-python",
   "name": "python",
   "nbconvert_exporter": "python",
   "pygments_lexer": "ipython3",
   "version": "3.6.7"
  }
 },
 "nbformat": 4,
 "nbformat_minor": 2
}
