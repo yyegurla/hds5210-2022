{
 "cells": [
  {
   "cell_type": "markdown",
   "metadata": {
    "nbgrader": {
     "grade": false,
     "grade_id": "intro",
     "locked": true,
     "schema_version": 1,
     "solution": false
    }
   },
   "source": [
    "# Week 5 Exercises\n",
    "\n",
    "_McKinney 3.2_\n",
    "\n",
    "**Unlike in previous weeks, in the exercises below, you will need to create a function definition from scratch.  I'll provide specific instructions and examples for how it will be used, but you will have to do the work of definiging the whole function.**\n",
    "\n",
    "---\n",
    "---"
   ]
  },
  {
   "cell_type": "markdown",
   "metadata": {
    "nbgrader": {
     "grade": false,
     "grade_id": "longest",
     "locked": true,
     "schema_version": 1,
     "solution": false
    }
   },
   "source": [
    "### 25.1 Longest String\n",
    "\n",
    "Write a function called `longest (L)` that takes as its only parameter a list of strings.  Your function needs to find the longest of those strings and return the position number of that longest string.  An example is provided below:\n",
    "\n",
    "The longest word in that list of strings is \"birthday\" in position #1, so `longest(strings)` should return 1.\n",
    "```\n",
    ">>> strings = ['happy', 'birthday', 'to', 'me']\n",
    ">>> longest(strings)\n",
    "1\n",
    "```\n",
    "\n",
    "Be sure to include a docstring.  Include test cases in your docstring if you want to."
   ]
  },
  {
   "cell_type": "code",
   "execution_count": 1,
   "metadata": {
    "nbgrader": {
     "grade": false,
     "grade_id": "longest-answer",
     "locked": false,
     "schema_version": 1,
     "solution": true
    }
   },
   "outputs": [],
   "source": [
    "### BEGIN SOLUTION\n",
    "\n",
    "def longest(strings):\n",
    "    \"\"\"(list) -> int\n",
    "    This function finds the longest string in the list of input strings\n",
    "    and returns the position number of that longest string.\n",
    "    \n",
    "    >>> longest(['happy', 'birthday', 'to', 'me'])\n",
    "    1\n",
    "    \n",
    "    >>> longest(['one', 'two', 'three', 'four'])\n",
    "    2\n",
    "    \"\"\"\n",
    "    \n",
    "    longest_pos = 0\n",
    "    longest_len = 0\n",
    "    \n",
    "    print(\"Position  Item         Longest So Far\")\n",
    "    print(\"--------- ------------ --------------\")\n",
    "    for position, item in enumerate(strings):\n",
    "        \n",
    "        if len(item) > longest_len:\n",
    "            longest_pos = position\n",
    "            longest_len = len(item)\n",
    "        print(\"{0:9} {1:12} {2} : {3}\".format(position, item, longest_pos, longest_len))\n",
    "            \n",
    "    return longest_pos\n",
    "\n",
    "### END SOLUTION"
   ]
  },
  {
   "cell_type": "code",
   "execution_count": 2,
   "metadata": {},
   "outputs": [],
   "source": [
    "def longest(my_list):\n",
    "    \"\"\"(list)->int\n",
    "    Find the longest item in a list of strings and return the index for that string.\n",
    "    If there are multiple strings with the same length, return the index of the first of those longest strings.\n",
    "    \n",
    "    >>> longest(['happy', 'birthday', 'to', 'me'])\n",
    "    1\n",
    "    \n",
    "    >>> longest(['abc','def','ghi'])\n",
    "    0\n",
    "    \"\"\"\n",
    "\n",
    "    if type(my_list) != list:\n",
    "        raise TypeError(\"That isn't a list!\")\n",
    "    \n",
    "    if len(my_list) == 0:\n",
    "        raise ValueError(\"There were no items in that list!\")\n",
    "    \n",
    "    max_length = -1\n",
    "    max_index = None\n",
    "\n",
    "    for num, item in enumerate(my_list):\n",
    "        try:\n",
    "            if len(item) > max_length:\n",
    "                max_length = len(item)\n",
    "                max_index = num\n",
    "        except:\n",
    "            pass\n",
    "        \n",
    "    return max_index\n",
    "    "
   ]
  },
  {
   "cell_type": "code",
   "execution_count": 3,
   "metadata": {},
   "outputs": [
    {
     "data": {
      "text/plain": [
       "1"
      ]
     },
     "execution_count": 3,
     "metadata": {},
     "output_type": "execute_result"
    }
   ],
   "source": [
    "longest(['happy', 'birthday', 2, 'me'])"
   ]
  },
  {
   "cell_type": "code",
   "execution_count": 4,
   "metadata": {},
   "outputs": [
    {
     "data": {
      "text/plain": [
       "1"
      ]
     },
     "execution_count": 4,
     "metadata": {},
     "output_type": "execute_result"
    }
   ],
   "source": [
    "longest(['happy', 'birthday', 'to', 'me'])"
   ]
  },
  {
   "cell_type": "code",
   "execution_count": 5,
   "metadata": {
    "nbgrader": {
     "grade": true,
     "grade_id": "longest-tests",
     "locked": true,
     "points": 10,
     "schema_version": 1,
     "solution": false
    }
   },
   "outputs": [],
   "source": [
    "assert longest(\"happy birthday to me\".split(\" \")) == 1\n",
    "assert longest(\"enjoy class\".split(\" \")) == 0\n",
    "assert longest(['when','what','where','how','who']) == 2"
   ]
  },
  {
   "cell_type": "code",
   "execution_count": 6,
   "metadata": {},
   "outputs": [
    {
     "name": "stdout",
     "output_type": "stream",
     "text": [
      "Finding tests in NoName\n",
      "Trying:\n",
      "    longest(['happy', 'birthday', 'to', 'me'])\n",
      "Expecting:\n",
      "    1\n",
      "ok\n",
      "Trying:\n",
      "    longest(['abc','def','ghi'])\n",
      "Expecting:\n",
      "    0\n",
      "ok\n"
     ]
    }
   ],
   "source": [
    "import doctest\n",
    "doctest.run_docstring_examples(longest, globals(), verbose=True)"
   ]
  },
  {
   "cell_type": "markdown",
   "metadata": {},
   "source": [
    "### 25.2 Celsius to Farenheit\n",
    "\n",
    "Write a function called f_to_c() that converts a given temperature in degrees Farenheit to degrees Celsius.  If you don't recall that conversion, it is:\n",
    "\n",
    "$ temp_c = \\frac{5}{9} \\times (temp_f - 32) $\n",
    "\n",
    "Make sure that you code is well documented using the DocString examples, and that your code includes tests for 212f, 32f, and 98.6f."
   ]
  },
  {
   "cell_type": "code",
   "execution_count": 7,
   "metadata": {},
   "outputs": [],
   "source": [
    "### BEGIN SOLUTION\n",
    "def f_to_c(tempf):\n",
    "    \"\"\"(float) -> float\n",
    "    This float converts given temperature in fahreinheit scale to celsius scale.\n",
    "    It also says the physical state of water at that temperature.\n",
    "    >>> f_to_c(212.0)\n",
    "    100.0\n",
    "    \n",
    "    >>> f_to_c(32.0)\n",
    "    0.0\n",
    "    \n",
    "    >>> f_to_c(98.6)\n",
    "    37.0\n",
    "    \"\"\"\n",
    "    f_to_c = (5/9)*(tempf-32)\n",
    "\n",
    "    return f_to_c\n",
    "\n",
    "### END SOLUTION"
   ]
  },
  {
   "cell_type": "code",
   "execution_count": 8,
   "metadata": {},
   "outputs": [],
   "source": [
    "assert f_to_c(212) == 100.0\n",
    "assert f_to_c(32) == 0.0\n",
    "assert f_to_c(98.6) == 37.0"
   ]
  },
  {
   "cell_type": "code",
   "execution_count": 9,
   "metadata": {},
   "outputs": [
    {
     "data": {
      "text/plain": [
       "100.0"
      ]
     },
     "execution_count": 9,
     "metadata": {},
     "output_type": "execute_result"
    }
   ],
   "source": [
    "f_to_c(212)"
   ]
  },
  {
   "cell_type": "code",
   "execution_count": 10,
   "metadata": {},
   "outputs": [
    {
     "data": {
      "text/plain": [
       "0.0"
      ]
     },
     "execution_count": 10,
     "metadata": {},
     "output_type": "execute_result"
    }
   ],
   "source": [
    "f_to_c(32)"
   ]
  },
  {
   "cell_type": "code",
   "execution_count": 11,
   "metadata": {},
   "outputs": [
    {
     "data": {
      "text/plain": [
       "37.0"
      ]
     },
     "execution_count": 11,
     "metadata": {},
     "output_type": "execute_result"
    }
   ],
   "source": [
    "f_to_c(98.6)"
   ]
  },
  {
   "cell_type": "code",
   "execution_count": 12,
   "metadata": {},
   "outputs": [
    {
     "name": "stdout",
     "output_type": "stream",
     "text": [
      "Finding tests in NoName\n",
      "Trying:\n",
      "    f_to_c(212.0)\n",
      "Expecting:\n",
      "    100.0\n",
      "ok\n",
      "Trying:\n",
      "    f_to_c(32.0)\n",
      "Expecting:\n",
      "    0.0\n",
      "ok\n",
      "Trying:\n",
      "    f_to_c(98.6)\n",
      "Expecting:\n",
      "    37.0\n",
      "ok\n"
     ]
    }
   ],
   "source": [
    "import doctest\n",
    "doctest.run_docstring_examples(f_to_c, globals(), verbose=True)"
   ]
  },
  {
   "cell_type": "markdown",
   "metadata": {},
   "source": [
    "### 25.3 Computing Length of Stay\n",
    "\n",
    "For this problem, we have a collection of patient enounter data stored as a Python dictionary.  The `key` for the dictionary is the **encounter ID**, a code that starts with the letter `E` followed by four numbers.  The value associated with each encounter ID is another Python dictionary.  This \"inner\" dictionary holds three items: admit date, primary diagnosis, and discharge date.  See the example in the code below.\n",
    "\n",
    "You need to write a length of stay function that computes the length of stay, in whole days, between the admit date and discharge date.  However, if the diagnosis is \"Observation\" then the length of stay should always be returned as 0 regardless of the admit and discharge dates.\n",
    "\n",
    "You will find it handy to refer to this example here on how to calculate the number of days between two dates: https://stackoverflow.com/questions/151199/how-to-calculate-number-of-days-between-two-given-dates"
   ]
  },
  {
   "cell_type": "code",
   "execution_count": 13,
   "metadata": {},
   "outputs": [],
   "source": [
    "from datetime import date\n",
    "\n",
    "### BEGIN SOLUTION\n",
    "def los(admit, discharge, diagnosis):\n",
    "    \"\"\"(list) -> int\n",
    "    >>> los(date(2019,1,3), date(2019,1,8),\"COPD\")\n",
    "    5\n",
    "    \"\"\"\n",
    "    if diagnosis == \"observation\":\n",
    "        return 0\n",
    "    else:\n",
    "        return (discharge-admit).days\n",
    "### END SOLUTION"
   ]
  },
  {
   "cell_type": "code",
   "execution_count": 14,
   "metadata": {},
   "outputs": [
    {
     "name": "stdout",
     "output_type": "stream",
     "text": [
      "Finding tests in NoName\n",
      "Trying:\n",
      "    los(date(2019,1,3), date(2019,1,8),\"COPD\")\n",
      "Expecting:\n",
      "    5\n",
      "ok\n"
     ]
    }
   ],
   "source": [
    "import doctest\n",
    "doctest.run_docstring_examples(los, globals(), verbose=True)"
   ]
  },
  {
   "cell_type": "code",
   "execution_count": 15,
   "metadata": {},
   "outputs": [
    {
     "name": "stdout",
     "output_type": "stream",
     "text": [
      "5\n",
      "4\n",
      "1\n",
      "1\n",
      "0\n"
     ]
    }
   ],
   "source": [
    "encounters = { \n",
    "    \"E1234\": { \"admit\": date(2019,1,3), \"diagnosis\": \"COPD\", \"discharge\": date(2019,1,8) },\n",
    "    \"E8342\": { \"admit\": date(2019,1,5), \"diagnosis\": \"Hypertension\", \"discharge\": date(2019,1,9) },\n",
    "    \"E9231\": { \"admit\": date(2019,1,12), \"diagnosis\": \"Anxiety\", \"discharge\": date(2019,1,13) },\n",
    "    \"E8333\": { \"admit\": date(2019,1,15), \"diagnosis\": \"Observation\", \"discharge\": date(2019,1,16) },\n",
    "    \"E3342\": { \"admit\": date(2019,1,4), \"diagnosis\": \"Anxiety\", \"discharge\": date(2019,1,4)}\n",
    "}\n",
    "\n",
    "\n",
    "for e, v in encounters.items():\n",
    "    print(los(v['admit'],v['discharge'],v['diagnosis']))"
   ]
  },
  {
   "cell_type": "markdown",
   "metadata": {},
   "source": [
    "---\n",
    "---\n",
    "\n",
    "### 25.4 Average Length of Stay\n",
    "\n",
    "Create a function called `average_los` that returns the average of the LOS for the encounters in the provided dictionary. The encounters must be a dictionary that contains dictionaries that each contain at least an admit date and a discharge date.\n",
    "    \n",
    "If the length of stay of any individual encounter is 0, then it will not be counted toward the average."
   ]
  },
  {
   "cell_type": "code",
   "execution_count": 16,
   "metadata": {},
   "outputs": [],
   "source": [
    "test1 = {\n",
    "        \"E1234\": { \"admit\": date(2019,1,3), \"diagnosis\": \"COPD\", \"discharge\": date(2019,1,8) }\n",
    "}\n",
    "\n",
    "test2 = {\n",
    "        \"E1234\": { \"admit\": date(2019,1,3), \"diagnosis\": \"COPD\", \"discharge\": date(2019,1,8) }\n",
    "}\n",
    "\n",
    "### BEGIN SOLUTION\n",
    "def average_los(test):\n",
    "    \"\"\"This function average_los calculates the average length of stay (los) of patients admitted in hospital with various diseases.\n",
    "    >>> average_los(test1)\n",
    "    5.0\n",
    "    \"\"\"\n",
    "    num = 0\n",
    "    count = 0\n",
    "    average = 0\n",
    "    for e, los in test.items():\n",
    "        no_of_days = (los[\"discharge\"] - los[\"admit\"]).days\n",
    "        if no_of_days > 0:\n",
    "            num = num + no_of_days\n",
    "            count = count + 1\n",
    "        average = num/count\n",
    "    return average\n",
    "\n",
    "\n",
    "### END SOLUTION"
   ]
  },
  {
   "cell_type": "code",
   "execution_count": 17,
   "metadata": {},
   "outputs": [],
   "source": [
    "from datetime import date\n",
    "encounters = { \n",
    "    \"E1234\": { \"admit\": date(2019,1,3), \"diagnosis\": \"COPD\", \"discharge\": date(2019,1,8) },\n",
    "    \"E8342\": { \"admit\": date(2019,1,5), \"diagnosis\": \"Hypertension\", \"discharge\": date(2019,1,9) },\n",
    "    \"E9231\": { \"admit\": date(2019,1,12), \"diagnosis\": \"Anxiety\", \"discharge\": date(2019,1,13) },\n",
    "    \"E8333\": { \"admit\": date(2019,1,15), \"diagnosis\": \"Observation\", \"discharge\": date(2019,1,16) },\n",
    "    \"E3342\": { \"admit\": date(2019,1,4), \"diagnosis\": \"Anxiety\", \"discharge\": date(2019,1,4)}\n",
    "}\n",
    "\n",
    "assert(average_los(encounters)) == 2.75"
   ]
  },
  {
   "cell_type": "code",
   "execution_count": 18,
   "metadata": {},
   "outputs": [
    {
     "name": "stdout",
     "output_type": "stream",
     "text": [
      "Finding tests in NoName\n",
      "Trying:\n",
      "    average_los(test1)\n",
      "Expecting:\n",
      "    5.0\n",
      "ok\n"
     ]
    }
   ],
   "source": [
    "import doctest\n",
    "doctest.run_docstring_examples(average_los, globals(), verbose=True)"
   ]
  },
  {
   "cell_type": "markdown",
   "metadata": {},
   "source": [
    "---\n",
    "\n",
    "### 25.5 Celsius to Farenheit\n",
    "\n",
    "Write your own function called `c_to_f` that converts degrees Celsius to degrees Farenheit.  Include in your solution a series of doc tests that can verify the conversion using inputs of 100, 0, and 37 degrees Celsius"
   ]
  },
  {
   "cell_type": "code",
   "execution_count": 19,
   "metadata": {},
   "outputs": [],
   "source": [
    "### BEGIN SOLUTION\n",
    "def c_to_f(tempC):\n",
    "    \"\"\"(float) -> float\n",
    "    This function converts the given temperature in celsius to fahrenheit.\n",
    "    >>> c_to_f(100)\n",
    "    212.0\n",
    "    >>> c_to_f(0)\n",
    "    32.0\n",
    "    >>> c_to_f(37)\n",
    "    98.6\n",
    "    \"\"\"\n",
    "    return(tempC * 9/5) + 32\n",
    "### END SOLUTION"
   ]
  },
  {
   "cell_type": "code",
   "execution_count": 20,
   "metadata": {},
   "outputs": [
    {
     "name": "stdout",
     "output_type": "stream",
     "text": [
      "Finding tests in NoName\n",
      "Trying:\n",
      "    c_to_f(100)\n",
      "Expecting:\n",
      "    212.0\n",
      "ok\n",
      "Trying:\n",
      "    c_to_f(0)\n",
      "Expecting:\n",
      "    32.0\n",
      "ok\n",
      "Trying:\n",
      "    c_to_f(37)\n",
      "Expecting:\n",
      "    98.6\n",
      "ok\n"
     ]
    }
   ],
   "source": [
    "import doctest\n",
    "doctest.run_docstring_examples(c_to_f, globals(), verbose=True)"
   ]
  },
  {
   "cell_type": "markdown",
   "metadata": {},
   "source": [
    "---\n",
    "\n",
    "## Check your work above\n",
    "\n",
    "If you didn't get them all correct, take a few minutes to think through those that aren't correct.\n",
    "\n",
    "\n",
    "## Submitting Your Work\n",
    "\n",
    "In order to submit your work, you'll need to use the `git` command line program to **add** your homework file (this file) to your local repository, **commit** your changes to your local repository, and then **push** those changes up to github.com.  From there, I'll be able to **pull** the changes down and do my grading.  I'll provide some feedback, **commit** and **push** my comments back to you.  Next week, I'll show you how to **pull** down my comments.\n",
    "\n",
    "To run through everything one last time and submit your work:\n",
    "1. Use the `Kernel` -> `Restart Kernel and Run All Cells` menu option to run everything from top to bottom and stop here.\n",
    "2. Follow the instruction on the prompt below to either ssave and submit your work, or continue working.\n",
    "\n",
    "If anything fails along the way with this submission part of the process, let me know.  I'll help you troubleshoort."
   ]
  },
  {
   "cell_type": "markdown",
   "metadata": {},
   "source": [
    "---"
   ]
  },
  {
   "cell_type": "code",
   "execution_count": null,
   "metadata": {
    "jupyter": {
     "source_hidden": true
    }
   },
   "outputs": [],
   "source": [
    "a=input('''\n",
    "Are you ready to submit your work?\n",
    "1. Click the Save icon (or do Ctrl-S / Cmd-S)\n",
    "2. Type \"yes\" or \"no\" below\n",
    "3. Press Enter\n",
    "\n",
    "''')\n",
    "\n",
    "if a=='yes':\n",
    "    !git add week05_assignment_2.ipynb\n",
    "    !git commit -a -m \"Submitting the week 5 programming exercises\"\n",
    "    !git push\n",
    "else:\n",
    "    print('''\n",
    "    \n",
    "OK. We can wait.\n",
    "''')"
   ]
  },
  {
   "cell_type": "markdown",
   "metadata": {},
   "source": [
    "\n",
    "---\n",
    "\n",
    "If the message above says something like _Submitting the week 3 review exercises_ or _Everything is up to date_, then your work was submitted correctly."
   ]
  },
  {
   "cell_type": "code",
   "execution_count": null,
   "metadata": {},
   "outputs": [],
   "source": []
  }
 ],
 "metadata": {
  "celltoolbar": "Create Assignment",
  "kernelspec": {
   "display_name": "Python 3",
   "language": "python",
   "name": "python3"
  },
  "language_info": {
   "codemirror_mode": {
    "name": "ipython",
    "version": 3
   },
   "file_extension": ".py",
   "mimetype": "text/x-python",
   "name": "python",
   "nbconvert_exporter": "python",
   "pygments_lexer": "ipython3",
   "version": "3.6.7"
  }
 },
 "nbformat": 4,
 "nbformat_minor": 2
}
